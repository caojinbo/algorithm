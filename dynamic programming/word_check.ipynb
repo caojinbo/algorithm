{
 "cells": [
  {
   "cell_type": "code",
   "execution_count": 43,
   "metadata": {},
   "outputs": [],
   "source": [
    "def word_check(string, words):\n",
    "    num = len(string)\n",
    "    idx = 0\n",
    "    exist = [False] * (num + 1)\n",
    "    exist[0] = True\n",
    "    while idx < num + 1:\n",
    "        j = 0\n",
    "        while j < idx:\n",
    "            if exist[j] and string[j:idx] in words:\n",
    "                print(j, idx, string[j:idx])\n",
    "                exist[idx] = True\n",
    "            j += 1\n",
    "        idx += 1\n",
    "    return exist"
   ]
  },
  {
   "cell_type": "code",
   "execution_count": 44,
   "metadata": {},
   "outputs": [
    {
     "name": "stdout",
     "output_type": "stream",
     "text": [
      "0 2 hi\n",
      "2 7 hello\n"
     ]
    },
    {
     "data": {
      "text/plain": [
       "[True, False, True, False, False, False, False, True]"
      ]
     },
     "execution_count": 44,
     "metadata": {},
     "output_type": "execute_result"
    }
   ],
   "source": [
    "words = ['hi', 'hello']\n",
    "string = \"hihello\"\n",
    "word_check(string, words)"
   ]
  },
  {
   "cell_type": "code",
   "execution_count": 27,
   "metadata": {},
   "outputs": [
    {
     "data": {
      "text/plain": [
       "[True, False, False, False, False, True, False, True]"
      ]
     },
     "execution_count": 27,
     "metadata": {},
     "output_type": "execute_result"
    }
   ],
   "source": [
    "def wordBreak(s, dict):\n",
    "    dp = [False for i in range(len(s)+1)]\n",
    "    dp[0] = True\n",
    "    for i in range(1, len(s)+1):\n",
    "        for k in range(i):\n",
    "            if dp[k] and s[k:i] in dict:\n",
    "                dp[i] = True\n",
    "    return dp\n",
    "wordBreak(string, words)"
   ]
  }
 ],
 "metadata": {
  "kernelspec": {
   "display_name": "Python 3",
   "language": "python",
   "name": "python3"
  },
  "language_info": {
   "codemirror_mode": {
    "name": "ipython",
    "version": 3
   },
   "file_extension": ".py",
   "mimetype": "text/x-python",
   "name": "python",
   "nbconvert_exporter": "python",
   "pygments_lexer": "ipython3",
   "version": "3.5.2"
  }
 },
 "nbformat": 4,
 "nbformat_minor": 2
}
