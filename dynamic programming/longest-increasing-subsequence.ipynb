{
 "cells": [
  {
   "cell_type": "markdown",
   "metadata": {},
   "source": [
    "# Longest increasing subsequence\n",
    "1.  any letter can be chosen or not, so the total possibility is 2<sup>N</sup>. Brute force is not a good idea\n",
    "2. to use dynamic programming, the key is to find an optimal value function, typically with the help of intermediate variables\n",
    "3. for arr[0, 1, ...N-1], define L[i], so that L[i] is the lis of arr[0, 1, ...i]. Because arr[i] is the last item, the optimal value function is easy to be calculated. L[i] = max(L[j] + 1) with condition j < i, and arr[i] > arr[j]. \n",
    "\n",
    "Assume arr = [3, 1, 4, 2, 3], then\n",
    "1. L[0] = 1, {3}\n",
    "2. L[1] = 1, {1}\n",
    "3. L[2] = 2, {1, 4}\n",
    "4. L[3] = 2, {1, 2}\n",
    "5. L[4] = 3, {1, 2, 3}\n",
    "\n",
    "Details:\n",
    "1. Line 1 and 2 is straightforward. Line 3: L[2]= l[0] + 1, then L[2] = L[1] + 1 since 4 is larger than 3 and 1. In other words it will be calculated twice but ended up with the same number\n",
    "2. Line 4: since the only smaller number than 2 is 1, then L[3] = L[1] + 1\n",
    "3. Line 5: 3 is larger than 1 and 2 so L[3] will be calculated twice. L[4] = L[2] + 1, then overwritten by L[4] = L[3] +1\n",
    "\n",
    "Conclusions:\n",
    "The above algorithm will be N<sup>2</sup> due to the inner loop. We could find new ways for binary search to get O(nlogn)"
   ]
  },
  {
   "cell_type": "code",
   "execution_count": 9,
   "metadata": {},
   "outputs": [
    {
     "data": {
      "text/plain": [
       "[1, 2, 3, 4, 1, 3, 2, 3, 5, 6]"
      ]
     },
     "execution_count": 9,
     "metadata": {},
     "output_type": "execute_result"
    }
   ],
   "source": [
    "# O(N^2)\n",
    "def lis(arr):\n",
    "    length = len(arr)\n",
    "    inter_arr = [1] * length\n",
    "    for i in range(1, length):\n",
    "        for j in range(0, i):\n",
    "            if arr[i] > arr[j] and inter_arr[i] < inter_arr[j] + 1:\n",
    "                inter_arr[i] = inter_arr[j] + 1\n",
    "    return inter_arr\n",
    "\n",
    "arr = [1, 3, 5, 6, 1, 4, 2, 3, 7, 8]\n",
    "lis(arr)"
   ]
  },
  {
   "cell_type": "markdown",
   "metadata": {},
   "source": [
    "In order to reach O(nlogn), we will need to have a special array that\n",
    "1) It holds some dynamic information which will be constantly updated\n",
    "2) The array is sorted so that we can do binary search\n",
    "\n",
    "Let M[j-1] to represent the position in arr, which is the smallest number of length j (or LIS)\n",
    "Think about two example\n",
    "\n",
    "seq = [10, 20, 30] ==> M = [0, 1, 2], P = [None, 0, 1]\n",
    "\n",
    "seq = [10, 20, 30, 1, 2] ==>M = [3, 4, 2, None, None, P = [None, 0, 1, None, 3]\n",
    "\n",
    "seq = [10, 20, 30, 1, 2, 5] ==>M = [3, 4, 5, None, None, None], P = [None, 0, 1, None, 3, 4]\n",
    "\n",
    "seq = [10, 20, 30, 1, 2, 40] ==> M = [3, 4, 2, 5, None, None], P = [None, 0, 1, None, 3, 2]\n",
    "\n",
    "So M will represent the current LIS, then will be replaced by a smaller number. \n",
    "1)  smaller number will not take effect unless the total length is larger than previous LIS. Until [1,2,5] the previous three numbers are fully replaced. If 40 is followed after [1, 2], then 40 will be counted together with [10, 20, 30]\n",
    "2) The update part is a search of ordered tree, such as [10, 20, 30]. So binary search is possible."
   ]
  },
  {
   "cell_type": "code",
   "execution_count": 62,
   "metadata": {},
   "outputs": [
    {
     "name": "stdout",
     "output_type": "stream",
     "text": [
      "****starting 1 20\n",
      "M = [0, 1, None]\n",
      "P = [None, 0, None]\n",
      "2\n",
      "****starting 2 30\n",
      "M = [0, 1, 2]\n",
      "P = [None, 0, 1]\n",
      "3\n"
     ]
    },
    {
     "data": {
      "text/plain": [
       "[10, 20, 30]"
      ]
     },
     "execution_count": 62,
     "metadata": {},
     "output_type": "execute_result"
    }
   ],
   "source": [
    "def subsequence(seq):\n",
    "    if not seq:\n",
    "        return seq\n",
    "\n",
    "    M = [None] * len(seq)    # offset by 1 (j -> j-1)\n",
    "    P = [None] * len(seq)\n",
    "\n",
    "    # Since we have at least one element in our list, we can start by \n",
    "    # knowing that the there's at least an increasing subsequence of length one:\n",
    "    # the first element.\n",
    "    L = 1\n",
    "    M[0] = 0\n",
    "\n",
    "    # Looping over the sequence starting from the second element\n",
    "    for i in range(1, len(seq)):\n",
    "        # Binary search: we want the largest j <= L\n",
    "        #  such that seq[M[j]] < seq[i] (default j = 0),\n",
    "        #  hence we want the lower bound at the end of the search process.\n",
    "        lower = 0\n",
    "        upper = L\n",
    "        print(\"****starting\", i, seq[i])\n",
    "\n",
    "        # Since the binary search will not look at the upper bound value,\n",
    "        # we'll have to check that manually\n",
    "        if seq[M[upper-1]] < seq[i]:\n",
    "            j = upper\n",
    "\n",
    "        else:\n",
    "            # actual binary search loop\n",
    "            while upper - lower > 1:\n",
    "                mid = (upper + lower) // 2\n",
    "                if seq[M[mid-1]] < seq[i]:\n",
    "                    lower = mid\n",
    "                else:\n",
    "                    upper = mid\n",
    "\n",
    "            j = lower    # this will also set the default value to 0\n",
    "\n",
    "        P[i] = M[j-1]\n",
    "\n",
    "        if j == L or seq[i] < seq[M[j]]:\n",
    "            M[j] = i\n",
    "            L = max(L, j+1)\n",
    "        \n",
    "        print(\"M =\", M)\n",
    "        print(\"P =\", P)\n",
    "        print(L)\n",
    "\n",
    "    # Building the result: [seq[M[L-1]], seq[P[M[L-1]]], seq[P[P[M[L-1]]]], ...]\n",
    "    result = []\n",
    "    pos = M[L-1]\n",
    "    for _ in range(L):\n",
    "        result.append(seq[pos])\n",
    "        pos = P[pos]\n",
    "\n",
    "    return result[::-1]    # reversing\n",
    "\n",
    "seq = [10, 20, 30]\n",
    "subsequence(seq)"
   ]
  },
  {
   "cell_type": "code",
   "execution_count": null,
   "metadata": {},
   "outputs": [],
   "source": []
  }
 ],
 "metadata": {
  "kernelspec": {
   "display_name": "Python 3",
   "language": "python",
   "name": "python3"
  },
  "language_info": {
   "codemirror_mode": {
    "name": "ipython",
    "version": 3
   },
   "file_extension": ".py",
   "mimetype": "text/x-python",
   "name": "python",
   "nbconvert_exporter": "python",
   "pygments_lexer": "ipython3",
   "version": "3.5.2"
  }
 },
 "nbformat": 4,
 "nbformat_minor": 2
}
