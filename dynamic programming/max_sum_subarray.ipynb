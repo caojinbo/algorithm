{
 "cells": [
  {
   "cell_type": "markdown",
   "metadata": {},
   "source": [
    "# Maxium sum of subarray\n",
    "Proposition:\n",
    "1. if the max_sum before k negative, then we should start with k. Otherwise we should include both, \n",
    "so max_sum=max(item[k], max_sum+item[k])\n",
    "2. Global max_sum_total should keep tracking the maximum\n",
    "\n",
    "[2, 4, -3, 1, 3] => 7\n",
    "[2, -4, -3, 1, 3] => 4\n",
    "[-1, -2, -3]=> -1\n"
   ]
  },
  {
   "cell_type": "code",
   "execution_count": 2,
   "metadata": {},
   "outputs": [
    {
     "name": "stdout",
     "output_type": "stream",
     "text": [
      "6\n",
      "3\n",
      "4\n",
      "7\n"
     ]
    },
    {
     "data": {
      "text/plain": [
       "7"
      ]
     },
     "execution_count": 2,
     "metadata": {},
     "output_type": "execute_result"
    }
   ],
   "source": [
    "def max_subarray(arr):\n",
    "    \"\"\"\n",
    "    Given a list of numbers, return the max sum of subarray\n",
    "    Assume contains at least one element\n",
    "    \"\"\"\n",
    "    max_sum = arr[0]\n",
    "    max_sum_total = arr[0]\n",
    "    for num in arr[1:]:\n",
    "        max_sum = max(max_sum + num, num)\n",
    "        print(max_sum)\n",
    "        max_sum_total = max(max_sum, max_sum_total)\n",
    "        \n",
    "    return max_sum_total\n",
    "\n",
    "\n",
    "max_subarray([2, 4, -3, 1, 3])"
   ]
  },
  {
   "cell_type": "code",
   "execution_count": 2,
   "metadata": {},
   "outputs": [
    {
     "name": "stderr",
     "output_type": "stream",
     "text": [
      ".\n",
      "----------------------------------------------------------------------\n",
      "Ran 1 test in 0.001s\n",
      "\n",
      "OK\n"
     ]
    }
   ],
   "source": [
    "import unittest\n",
    "class MaxSubArrayTestCase(unittest.TestCase):\n",
    "    def setUp(self):\n",
    "        self.la = [2, 4, -3, 1, 3]\n",
    "        self.sa = 7\n",
    "        self.lb = [2, -4, -3, 1, 3]\n",
    "        self.sb = 4\n",
    "        self.lc = [-1, -2, -3]\n",
    "        self.sc = -1\n",
    "    def tearDown(self):\n",
    "        pass\n",
    "    def test_max_subarray(self):\n",
    "        self.assertEqual(max_subarray(self.la), self.sa)\n",
    "        self.assertEqual(max_subarray(self.lb), self.sb)\n",
    "        self.assertEqual(max_subarray(self.lc), self.sc)\n",
    "        \n",
    "if __name__ == '__main__':\n",
    "    unittest.main(argv=['first-arg-is-ignored'], exit=False)"
   ]
  },
  {
   "cell_type": "code",
   "execution_count": null,
   "metadata": {},
   "outputs": [],
   "source": []
  }
 ],
 "metadata": {
  "kernelspec": {
   "display_name": "Python 3",
   "language": "python",
   "name": "python3"
  },
  "language_info": {
   "codemirror_mode": {
    "name": "ipython",
    "version": 3
   },
   "file_extension": ".py",
   "mimetype": "text/x-python",
   "name": "python",
   "nbconvert_exporter": "python",
   "pygments_lexer": "ipython3",
   "version": "3.5.2"
  }
 },
 "nbformat": 4,
 "nbformat_minor": 2
}
