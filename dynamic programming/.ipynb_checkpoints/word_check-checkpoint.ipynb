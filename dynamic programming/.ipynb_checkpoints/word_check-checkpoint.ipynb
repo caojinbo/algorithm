{
 "cells": [
  {
   "cell_type": "code",
   "execution_count": 1,
   "metadata": {},
   "outputs": [],
   "source": [
    "def word_check(string, words):\n",
    "    num = len(string)\n",
    "    idx = 0\n",
    "    exist = [False] * (num + 1)\n",
    "    exist[0] = True\n",
    "    while idx < num + 1:\n",
    "        j = 0\n",
    "        while j < idx:\n",
    "            if exist[j] and string[j:idx] in words:\n",
    "                print(j, idx, string[j:idx])\n",
    "                exist[idx] = True\n",
    "            j += 1\n",
    "        idx += 1\n",
    "    return exist"
   ]
  },
  {
   "cell_type": "code",
   "execution_count": 5,
   "metadata": {},
   "outputs": [
    {
     "name": "stdout",
     "output_type": "stream",
     "text": [
      "0 2 hi\n",
      "2 7 hello\n"
     ]
    },
    {
     "data": {
      "text/plain": [
       "[True, False, True, False, False, False, False, True]"
      ]
     },
     "execution_count": 5,
     "metadata": {},
     "output_type": "execute_result"
    }
   ],
   "source": [
    "words = ['hi', 'hello', 'a']\n",
    "string = \"hihello\"\n",
    "word_check(string, words)"
   ]
  },
  {
   "cell_type": "code",
   "execution_count": 3,
   "metadata": {},
   "outputs": [
    {
     "data": {
      "text/plain": [
       "[True, False, True, False, False, False, False, True]"
      ]
     },
     "execution_count": 3,
     "metadata": {},
     "output_type": "execute_result"
    }
   ],
   "source": [
    "def wordBreak(s, dict):\n",
    "    dp = [False for i in range(len(s)+1)]\n",
    "    dp[0] = True\n",
    "    for i in range(1, len(s)+1):\n",
    "        for k in range(i):\n",
    "            if dp[k] and s[k:i] in dict:\n",
    "                dp[i] = True\n",
    "    return dp\n",
    "wordBreak(string, words)"
   ]
  },
  {
   "cell_type": "code",
   "execution_count": 6,
   "metadata": {},
   "outputs": [
    {
     "data": {
      "text/plain": [
       "[True, True]"
      ]
     },
     "execution_count": 6,
     "metadata": {},
     "output_type": "execute_result"
    }
   ],
   "source": [
    "wordBreak('a', words)"
   ]
  },
  {
   "cell_type": "code",
   "execution_count": 14,
   "metadata": {},
   "outputs": [],
   "source": [
    "a = set()\n",
    "for h in \"hello\":\n",
    "    a.add(h)"
   ]
  },
  {
   "cell_type": "code",
   "execution_count": 15,
   "metadata": {},
   "outputs": [
    {
     "data": {
      "text/plain": [
       "{'e', 'h', 'l', 'o'}"
      ]
     },
     "execution_count": 15,
     "metadata": {},
     "output_type": "execute_result"
    }
   ],
   "source": [
    "a"
   ]
  },
  {
   "cell_type": "code",
   "execution_count": 29,
   "metadata": {},
   "outputs": [
    {
     "data": {
      "text/plain": [
       "array([5, 4, 6, 4, 4, 4, 5, 5, 5, 4])"
      ]
     },
     "execution_count": 29,
     "metadata": {},
     "output_type": "execute_result"
    }
   ],
   "source": [
    "import numpy as np\n",
    "np.random.binomial(10, 0.5, size=10)\n"
   ]
  },
  {
   "cell_type": "code",
   "execution_count": 56,
   "metadata": {},
   "outputs": [],
   "source": [
    "def forward(x, W1, W2, W3, training=False):\n",
    "    z1 = np.dot(x, W1)\n",
    "    y1 = np.tanh(z1)\n",
    " \n",
    "    z2 = np.dot(y1, W2)\n",
    "    y2 = np.tanh(z2)\n",
    "    # Dropout in layer 2\n",
    "    if training:\n",
    "        m2 = np.random.binomial(1, 0.5, size=z2.shape)\n",
    "    else:\n",
    "        m2 = 0.5\n",
    "    y2 *= m2\n",
    " \n",
    "    z3 = np.dot(y2, W3)\n",
    "    y3 = z3 # linear output\n",
    " \n",
    "    return y1, y2, y3, m2\n",
    " \n",
    "def backward(x, y1, y2, y3, m2, t, W1, W2, W3):\n",
    "    dC_dz3 = dC(y3, t)\n",
    "    dC_dW3 = np.dot(y2.T, dC_dz3)\n",
    "    dC_dy2 = np.dot(dC_dz3, W3.T)\n",
    " \n",
    "    dC_dz2 = dC_dy2 * dtanh(y2) * m2\n",
    "    dC_dW2 = np.dot(y1.T, dC_dz2)\n",
    "    dC_dy1 = np.dot(dC_dz2, W2.T)\n",
    " \n",
    "    dC_dz1 = dC_dy1 * dtanh(y1)\n",
    "    dC_dW1 = np.dot(x.T, dC_dz1)\n",
    " \n",
    "    return dC_dW1, dC_dW2, dC_dW3"
   ]
  },
  {
   "cell_type": "code",
   "execution_count": 99,
   "metadata": {},
   "outputs": [],
   "source": [
    "def reverse(array, start, end):\n",
    "    while start < end:\n",
    "        array[start], array[end] = array[end], array[start]\n",
    "        start += 1\n",
    "        end -= 1\n",
    "        \n",
    "def rotate1(string, n):\n",
    "    array = list(string)\n",
    "    reverse(array, 0, n-1)\n",
    "    reverse(array, n, len(string) - 1 )\n",
    "    reverse(array, 0, len(string) - 1)\n",
    "    return ''.join(array)\n",
    "\n",
    "def rotate2(string, n):\n",
    "    return string[n:] + string[:n]"
   ]
  },
  {
   "cell_type": "code",
   "execution_count": 102,
   "metadata": {},
   "outputs": [],
   "source": [
    "test = ''.join(['hi'] * 1000000)\n"
   ]
  },
  {
   "cell_type": "code",
   "execution_count": 103,
   "metadata": {},
   "outputs": [
    {
     "name": "stdout",
     "output_type": "stream",
     "text": [
      "422 ms ± 2.64 ms per loop (mean ± std. dev. of 7 runs, 1 loop each)\n"
     ]
    }
   ],
   "source": [
    "%timeit rotate1(test, 2000)"
   ]
  },
  {
   "cell_type": "code",
   "execution_count": 104,
   "metadata": {},
   "outputs": [
    {
     "name": "stdout",
     "output_type": "stream",
     "text": [
      "211 µs ± 3.15 µs per loop (mean ± std. dev. of 7 runs, 1000 loops each)\n"
     ]
    }
   ],
   "source": [
    "%timeit rotate2(test, 2)"
   ]
  },
  {
   "cell_type": "code",
   "execution_count": 105,
   "metadata": {},
   "outputs": [
    {
     "data": {
      "text/plain": [
       "'lohel'"
      ]
     },
     "execution_count": 105,
     "metadata": {},
     "output_type": "execute_result"
    }
   ],
   "source": [
    "rotate1('hello', 3)"
   ]
  },
  {
   "cell_type": "code",
   "execution_count": 106,
   "metadata": {},
   "outputs": [
    {
     "data": {
      "text/plain": [
       "'lohel'"
      ]
     },
     "execution_count": 106,
     "metadata": {},
     "output_type": "execute_result"
    }
   ],
   "source": [
    "rotate2('hello', 3)"
   ]
  },
  {
   "cell_type": "code",
   "execution_count": null,
   "metadata": {},
   "outputs": [],
   "source": []
  }
 ],
 "metadata": {
  "kernelspec": {
   "display_name": "Python 3",
   "language": "python",
   "name": "python3"
  },
  "language_info": {
   "codemirror_mode": {
    "name": "ipython",
    "version": 3
   },
   "file_extension": ".py",
   "mimetype": "text/x-python",
   "name": "python",
   "nbconvert_exporter": "python",
   "pygments_lexer": "ipython3",
   "version": "3.5.2"
  }
 },
 "nbformat": 4,
 "nbformat_minor": 2
}
