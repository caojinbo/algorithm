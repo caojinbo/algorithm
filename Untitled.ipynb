{
 "cells": [
  {
   "cell_type": "code",
   "execution_count": 1,
   "metadata": {},
   "outputs": [],
   "source": [
    "class Node:\n",
    " \n",
    "    # Constructor to create a new node\n",
    "    def __init__(self, data):\n",
    "        self.data = data\n",
    "        self.left = None\n",
    "        self.right = None\n",
    "    def __repr__(self):\n",
    "        return self.data\n",
    "\n",
    "\n",
    "def make_test_bitree():\n",
    "    a0 = Node(\"a0\")\n",
    "    b0 = Node(\"b0\")\n",
    "    b1 = Node(\"b1\")\n",
    "    b2 = Node(\"b2\")\n",
    "    c1 = Node(\"c1\")\n",
    "    c2 = Node(\"c2\")\n",
    "    d2 = Node(\"d2\")\n",
    "    d3 = Node(\"d3\")\n",
    "    \n",
    "    a0.left = b0\n",
    "    a0.right = b1\n",
    "    b0.right = c1\n",
    "    b1.left = c2\n",
    "    c1.left = d2\n",
    "    c1.right = d3\n",
    "    return a0\n",
    "\n",
    "bt = make_test_bitree()"
   ]
  },
  {
   "cell_type": "code",
   "execution_count": 2,
   "metadata": {},
   "outputs": [
    {
     "name": "stdout",
     "output_type": "stream",
     "text": [
      "a0\n",
      "b0\n",
      "c1\n",
      "d2\n"
     ]
    }
   ],
   "source": [
    "from collections import deque\n",
    "def left_view(root):\n",
    "    queue = deque()\n",
    "    queue.append(root)\n",
    "    while queue:\n",
    "        num_of_nodes = len(queue)\n",
    "        within_layer = 0\n",
    "        while within_layer < num_of_nodes:\n",
    "            curr_node = queue.popleft()\n",
    "            if within_layer == 0:\n",
    "                print(curr_node)\n",
    "            within_layer += 1\n",
    "            if curr_node.left:\n",
    "                queue.append(curr_node.left)\n",
    "            if curr_node.right:\n",
    "                queue.append(curr_node.right)\n",
    "\n",
    "left_view(bt)"
   ]
  },
  {
   "cell_type": "code",
   "execution_count": 16,
   "metadata": {},
   "outputs": [
    {
     "name": "stdout",
     "output_type": "stream",
     "text": [
      "1 a0\n",
      "2 b0\n",
      "3 c1\n",
      "4 d2\n"
     ]
    }
   ],
   "source": [
    "max_level = 0\n",
    "def left_view_recur(root, level):\n",
    "    global max_level\n",
    "    if not root:\n",
    "        return\n",
    "    if max_level < level:\n",
    "        print(level, root)\n",
    "        max_level = level\n",
    "\n",
    "    left_view_recur(root.left, level + 1)\n",
    "    left_view_recur(root.right, level + 1)\n",
    "    \n",
    "\n",
    "left_view_recur(bt, 1)"
   ]
  },
  {
   "cell_type": "code",
   "execution_count": 6,
   "metadata": {},
   "outputs": [
    {
     "name": "stdout",
     "output_type": "stream",
     "text": [
      "d2\n",
      "d3\n",
      "c1\n",
      "b0\n",
      "c2\n",
      "b1\n",
      "a0\n"
     ]
    }
   ],
   "source": [
    "def bfs_postorder(root):\n",
    "    if not root:\n",
    "        return\n",
    "    bfs_postorder(root.left)\n",
    "    bfs_postorder(root.right)\n",
    "    print(root)\n",
    "\n",
    "bfs_postorder(bt)"
   ]
  },
  {
   "cell_type": "code",
   "execution_count": 19,
   "metadata": {},
   "outputs": [
    {
     "data": {
      "text/plain": [
       "[4, 3]"
      ]
     },
     "execution_count": 19,
     "metadata": {},
     "output_type": "execute_result"
    }
   ],
   "source": [
    "a = [1,2,3,4]\n",
    "a[3:1:-1]"
   ]
  },
  {
   "cell_type": "code",
   "execution_count": 27,
   "metadata": {},
   "outputs": [
    {
     "data": {
      "text/plain": [
       "[1, 2]"
      ]
     },
     "execution_count": 27,
     "metadata": {},
     "output_type": "execute_result"
    }
   ],
   "source": [
    "del a[2:3]\n",
    "a"
   ]
  },
  {
   "cell_type": "code",
   "execution_count": 21,
   "metadata": {},
   "outputs": [
    {
     "data": {
      "text/plain": [
       "[]"
      ]
     },
     "execution_count": 21,
     "metadata": {},
     "output_type": "execute_result"
    }
   ],
   "source": [
    "a[0:3:-1]"
   ]
  },
  {
   "cell_type": "code",
   "execution_count": 22,
   "metadata": {},
   "outputs": [
    {
     "data": {
      "text/plain": [
       "[4, 3, 2, 1]"
      ]
     },
     "execution_count": 22,
     "metadata": {},
     "output_type": "execute_result"
    }
   ],
   "source": [
    "a[::-1]"
   ]
  },
  {
   "cell_type": "code",
   "execution_count": 28,
   "metadata": {},
   "outputs": [],
   "source": [
    "def between(beg, end, mid):\n",
    "\t# 判断mid是否位于begin和end之间\n",
    "\treturn end > mid >= beg or end < mid <= beg"
   ]
  },
  {
   "cell_type": "code",
   "execution_count": 29,
   "metadata": {},
   "outputs": [
    {
     "data": {
      "text/plain": [
       "True"
      ]
     },
     "execution_count": 29,
     "metadata": {},
     "output_type": "execute_result"
    }
   ],
   "source": [
    "between(1, 3, 2)"
   ]
  },
  {
   "cell_type": "code",
   "execution_count": 30,
   "metadata": {},
   "outputs": [
    {
     "data": {
      "text/plain": [
       "True"
      ]
     },
     "execution_count": 30,
     "metadata": {},
     "output_type": "execute_result"
    }
   ],
   "source": [
    "between(3, 1, 2)"
   ]
  },
  {
   "cell_type": "code",
   "execution_count": 31,
   "metadata": {},
   "outputs": [
    {
     "data": {
      "text/plain": [
       "False"
      ]
     },
     "execution_count": 31,
     "metadata": {},
     "output_type": "execute_result"
    }
   ],
   "source": [
    "between(1, 3, 4)"
   ]
  },
  {
   "cell_type": "code",
   "execution_count": 35,
   "metadata": {},
   "outputs": [],
   "source": [
    "a=1\n",
    "c=b=a"
   ]
  },
  {
   "cell_type": "code",
   "execution_count": 37,
   "metadata": {},
   "outputs": [
    {
     "data": {
      "text/plain": [
       "1"
      ]
     },
     "execution_count": 37,
     "metadata": {},
     "output_type": "execute_result"
    }
   ],
   "source": [
    "b"
   ]
  },
  {
   "cell_type": "code",
   "execution_count": null,
   "metadata": {},
   "outputs": [],
   "source": []
  }
 ],
 "metadata": {
  "kernelspec": {
   "display_name": "Python 3",
   "language": "python",
   "name": "python3"
  },
  "language_info": {
   "codemirror_mode": {
    "name": "ipython",
    "version": 3
   },
   "file_extension": ".py",
   "mimetype": "text/x-python",
   "name": "python",
   "nbconvert_exporter": "python",
   "pygments_lexer": "ipython3",
   "version": "3.5.2"
  }
 },
 "nbformat": 4,
 "nbformat_minor": 2
}
