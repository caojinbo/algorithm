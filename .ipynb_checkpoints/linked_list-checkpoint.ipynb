{
 "cells": [
  {
   "cell_type": "code",
   "execution_count": 25,
   "metadata": {},
   "outputs": [
    {
     "name": "stdout",
     "output_type": "stream",
     "text": [
      "a0\n",
      "b0\n",
      "c0\n",
      "d0\n",
      "e0\n"
     ]
    }
   ],
   "source": [
    "class Node(object):\n",
    "    def __init__(self, data):\n",
    "        self.data = data\n",
    "        self.next = None\n",
    "    def __repr__(self):\n",
    "        return self.data\n",
    "    \n",
    "def make_ll():\n",
    "    a = Node(\"a0\")\n",
    "    b = Node(\"b0\")\n",
    "    c = Node(\"c0\")\n",
    "    d = Node(\"d0\")\n",
    "    e = Node(\"e0\")\n",
    "    a.next = b\n",
    "    b.next = c\n",
    "    c.next = d\n",
    "    d.next = e\n",
    "    return a\n",
    "\n",
    "ll = make_ll()\n",
    "def print_ll(ll):\n",
    "    while ll:\n",
    "        print(ll.data)\n",
    "        ll = ll.next\n",
    "print_ll(ll)"
   ]
  },
  {
   "cell_type": "code",
   "execution_count": 91,
   "metadata": {},
   "outputs": [],
   "source": [
    "# the key is to define pre and curr pointer\n",
    "def del_ll(ll, key='c0'):\n",
    "    if ll.data == key:\n",
    "        return ll.next\n",
    "    curr = ll\n",
    "    pre = curr\n",
    "    if curr is None:\n",
    "        return curr\n",
    "    while curr.data != key and curr is not None:\n",
    "        pre = curr\n",
    "        curr = curr.next\n",
    "    if curr:\n",
    "        pre.next = curr.next\n",
    "    return ll\n",
    "    "
   ]
  },
  {
   "cell_type": "code",
   "execution_count": 94,
   "metadata": {},
   "outputs": [],
   "source": [
    "ll = del_ll(ll, 'd0')"
   ]
  },
  {
   "cell_type": "code",
   "execution_count": 95,
   "metadata": {},
   "outputs": [
    {
     "name": "stdout",
     "output_type": "stream",
     "text": [
      "b0\n",
      "c0\n",
      "e0\n"
     ]
    }
   ],
   "source": [
    "print_ll(ll)\n"
   ]
  },
  {
   "cell_type": "code",
   "execution_count": 100,
   "metadata": {},
   "outputs": [
    {
     "data": {
      "text/plain": [
       "[1, 3, 12, 0, 0]"
      ]
     },
     "execution_count": 100,
     "metadata": {},
     "output_type": "execute_result"
    }
   ],
   "source": [
    "def move_zero(lst):\n",
    "    new_list = []\n",
    "    zeros = 0\n",
    "    for num in lst:\n",
    "        if num == 0:\n",
    "            zeros += 1\n",
    "        else:\n",
    "            new_list.append(num)\n",
    "    new_list += [0] * zeros\n",
    "    return new_list\n",
    "\n",
    "move_zero([0,1,0,3,12])"
   ]
  },
  {
   "cell_type": "code",
   "execution_count": 99,
   "metadata": {},
   "outputs": [
    {
     "data": {
      "text/plain": [
       "[1, 2, 2, 3]"
      ]
     },
     "execution_count": 99,
     "metadata": {},
     "output_type": "execute_result"
    }
   ],
   "source": [
    "[1, 2] + [2, 3]"
   ]
  },
  {
   "cell_type": "code",
   "execution_count": 105,
   "metadata": {},
   "outputs": [
    {
     "name": "stdout",
     "output_type": "stream",
     "text": [
      "BAD\n"
     ]
    }
   ],
   "source": [
    "from collections import Counter\n",
    "nums = [1, 2, 3, 1]\n",
    "lookup = {}\n",
    "for num in nums:\n",
    "    if num not in lookup:\n",
    "        lookup[num] = 1\n",
    "    else:\n",
    "        print(\"BAD\")"
   ]
  },
  {
   "cell_type": "code",
   "execution_count": 124,
   "metadata": {},
   "outputs": [
    {
     "data": {
      "text/plain": [
       "701"
      ]
     },
     "execution_count": 124,
     "metadata": {},
     "output_type": "execute_result"
    }
   ],
   "source": [
    "def string_to_digit(string):\n",
    "    conversion = 'abcdefghijklmnopqrstuvwxyz'\n",
    "    output = 0\n",
    "    while len(string):\n",
    "        pop = string[0]\n",
    "        digit = conversion.find(pop) + 1\n",
    "        string = string[1:]\n",
    "        output = digit + output * 26\n",
    "    return output\n",
    "string_to_digit('zy')"
   ]
  },
  {
   "cell_type": "code",
   "execution_count": 127,
   "metadata": {},
   "outputs": [
    {
     "data": {
      "text/plain": [
       "701"
      ]
     },
     "execution_count": 127,
     "metadata": {},
     "output_type": "execute_result"
    }
   ],
   "source": [
    "def string_to_digit(string):\n",
    "    conversion = 'abcdefghijklmnopqrstuvwxyz'\n",
    "    output = 0\n",
    "    while len(string):\n",
    "        head = string[0]\n",
    "        string = string[1:]\n",
    "        head = conversion.find(head) + 1\n",
    "        output = output * 26 + head\n",
    "    return output\n",
    "string_to_digit('zy')"
   ]
  },
  {
   "cell_type": "code",
   "execution_count": 12,
   "metadata": {},
   "outputs": [
    {
     "name": "stdout",
     "output_type": "stream",
     "text": [
      "[a0, b0, c0, d0, e0]\n"
     ]
    }
   ],
   "source": [
    "# reverse linked list\n",
    "def reverse_ll(ll):\n",
    "    if not ll:\n",
    "        return ll\n",
    "    stack = []\n",
    "    while ll:\n",
    "        stack.append(ll)\n",
    "        ll = ll.next\n",
    "    idx = 0\n",
    "    print(stack)\n",
    "    while idx < len(stack) - 1:\n",
    "        stack[-idx - 1].next = stack[-idx -2]\n",
    "        idx += 1\n",
    "    stack[0].next = None\n",
    "    ll = stack[-1]\n",
    "    return ll\n",
    "x = reverse_ll(ll)\n",
    "            \n",
    "        "
   ]
  },
  {
   "cell_type": "code",
   "execution_count": 34,
   "metadata": {},
   "outputs": [
    {
     "name": "stdout",
     "output_type": "stream",
     "text": [
      "a0\n"
     ]
    }
   ],
   "source": [
    "# reverse linked list\n",
    "def reverse_ll(head):\n",
    "    if not head:\n",
    "        return None\n",
    "    pre = None\n",
    "    curr = head\n",
    "    while curr:\n",
    "        forward = curr.next\n",
    "        curr.next = pre\n",
    "        pre = curr\n",
    "        curr = forward\n",
    "    return pre\n",
    "x= ll\n",
    "x = reverse_ll(x)\n",
    "print_ll(x)"
   ]
  },
  {
   "cell_type": "code",
   "execution_count": 33,
   "metadata": {},
   "outputs": [],
   "source": [
    "ll.next"
   ]
  },
  {
   "cell_type": "code",
   "execution_count": null,
   "metadata": {},
   "outputs": [],
   "source": []
  }
 ],
 "metadata": {
  "kernelspec": {
   "display_name": "Python 3",
   "language": "python",
   "name": "python3"
  },
  "language_info": {
   "codemirror_mode": {
    "name": "ipython",
    "version": 3
   },
   "file_extension": ".py",
   "mimetype": "text/x-python",
   "name": "python",
   "nbconvert_exporter": "python",
   "pygments_lexer": "ipython3",
   "version": "3.5.2"
  }
 },
 "nbformat": 4,
 "nbformat_minor": 2
}
