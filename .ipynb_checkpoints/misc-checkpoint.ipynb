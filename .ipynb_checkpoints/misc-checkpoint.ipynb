{
 "cells": [
  {
   "cell_type": "code",
   "execution_count": 12,
   "metadata": {},
   "outputs": [
    {
     "name": "stdout",
     "output_type": "stream",
     "text": [
      "NO\n"
     ]
    }
   ],
   "source": [
    "# Majority elements\n",
    "from collections import Counter\n",
    "def maj(nums):\n",
    "    length = len(nums)\n",
    "    nums = Counter(nums).most_common(1)\n",
    "    num, count = nums[0]\n",
    "    if count > length / 2:\n",
    "        print(num)\n",
    "    else:\n",
    "        print(\"NO\")\n",
    "\n",
    "maj([3, 3, 4, 2, 4, 4, 2, 4])"
   ]
  },
  {
   "cell_type": "code",
   "execution_count": 8,
   "metadata": {},
   "outputs": [
    {
     "data": {
      "text/plain": [
       "[(1, 2)]"
      ]
     },
     "execution_count": 8,
     "metadata": {},
     "output_type": "execute_result"
    }
   ],
   "source": [
    "Counter([1, 2, 1]).most_common(1)"
   ]
  },
  {
   "cell_type": "code",
   "execution_count": 18,
   "metadata": {},
   "outputs": [
    {
     "data": {
      "text/plain": [
       "3549"
      ]
     },
     "execution_count": 18,
     "metadata": {},
     "output_type": "execute_result"
    }
   ],
   "source": [
    "def romanToInt(s):\n",
    "    numerals = { \"M\": 1000, \"D\": 500, \"C\": 100, \"L\": 50, \"X\": 10, \"V\": 5, \"I\": 1 }\n",
    "    sum=0\n",
    "    s=s[::-1]\n",
    "    last=None\n",
    "    for x in s:\n",
    "        if last and numerals[x]<last:\n",
    "            sum-=2*numerals[x]\n",
    "        sum+=numerals[x]\n",
    "        last=numerals[x]\n",
    "    return sum\n",
    "romanToInt(\"MMMDXLIX\")"
   ]
  },
  {
   "cell_type": "code",
   "execution_count": 21,
   "metadata": {},
   "outputs": [
    {
     "data": {
      "text/plain": [
       "3549"
      ]
     },
     "execution_count": 21,
     "metadata": {},
     "output_type": "execute_result"
    }
   ],
   "source": [
    "def romanToInt(s):\n",
    "    numerals = { \"M\": 1000, \"D\": 500, \"C\": 100, \"L\": 50, \"X\": 10, \"V\": 5, \"I\": 1 }\n",
    "    sum=0\n",
    "    idx = 0\n",
    "    while idx < len(s):\n",
    "        if (idx < len(s) - 1) and (numerals[s[idx + 1]] > numerals[s[idx]]):\n",
    "            sum -= 2 * numerals[s[idx]]\n",
    "        sum += numerals[s[idx]]\n",
    "        idx += 1\n",
    "    return sum\n",
    "\n",
    "romanToInt(\"MMMDXLIX\")"
   ]
  },
  {
   "cell_type": "code",
   "execution_count": 30,
   "metadata": {},
   "outputs": [
    {
     "data": {
      "text/plain": [
       "'MMMDXLIX'"
      ]
     },
     "execution_count": 30,
     "metadata": {},
     "output_type": "execute_result"
    }
   ],
   "source": [
    "def int_to_roman(num):\n",
    "    values = [ 1000, 900, 500, 400, 100, 90, 50, 40, 10, 9, 5, 4, 1 ]\n",
    "    numerals = [ \"M\", \"CM\", \"D\", \"CD\", \"C\", \"XC\", \"L\", \"XL\", \"X\", \"IX\", \"V\", \"IV\", \"I\" ]\n",
    "    output = ''\n",
    "    for idx in range(len(values)):\n",
    "        while num >= values[idx]:\n",
    "            num -= values[idx]\n",
    "            output +=numerals[idx]\n",
    "    return output\n",
    "int_to_roman(3549)\n",
    "            "
   ]
  },
  {
   "cell_type": "code",
   "execution_count": 88,
   "metadata": {},
   "outputs": [
    {
     "name": "stdout",
     "output_type": "stream",
     "text": [
      "0\n",
      "2\n",
      "3\n"
     ]
    },
    {
     "data": {
      "text/plain": [
       "'dofde'"
      ]
     },
     "execution_count": 88,
     "metadata": {},
     "output_type": "execute_result"
    }
   ],
   "source": [
    "def reverse_vowel(s):\n",
    "    vowel = \"aeiouAEIOU\"\n",
    "    length = len(s)\n",
    "    out = [None] * length\n",
    "    pf = 0\n",
    "    pb = length - 1\n",
    "    while pf <= pb:\n",
    "        while pf < length - 1 and s[pf] not in vowel and pf <= pb:\n",
    "            print(pf)\n",
    "            out[pf] = s[pf]\n",
    "            pf += 1\n",
    "        while pb > 0 and s[pb] not in vowel and pf <= pb:\n",
    "            print(pb)\n",
    "            out[pb] = s[pb]\n",
    "            pb -= 1\n",
    "        if s[pf] in vowel and s[pb] in vowel:\n",
    "            out[pb], out[pf] = s[pf], s[pb]\n",
    "        pf += 1\n",
    "        pb -= 1\n",
    "    return \"\".join(out)\n",
    "\n",
    "reverse_vowel(\"defdo\")\n",
    "            "
   ]
  },
  {
   "cell_type": "code",
   "execution_count": 135,
   "metadata": {},
   "outputs": [],
   "source": [
    "def climb_stair(num):\n",
    "    curr = pre = 1\n",
    "    for i in range(0, num):\n",
    "        pre, curr = curr, curr + pre\n",
    "    return pre"
   ]
  },
  {
   "cell_type": "code",
   "execution_count": 149,
   "metadata": {},
   "outputs": [
    {
     "data": {
      "text/plain": [
       "True"
      ]
     },
     "execution_count": 149,
     "metadata": {},
     "output_type": "execute_result"
    }
   ],
   "source": [
    "#Simple is ugly number solution\n",
    "def is_ugly(num):\n",
    "    def maxdiv(a, base):\n",
    "        while a % base == 0:\n",
    "            a = a // base\n",
    "        return a\n",
    "    num = maxdiv(num, 2)\n",
    "    num = maxdiv(num, 3)\n",
    "    num = maxdiv(num, 5)\n",
    "    return num == 1\n",
    "\n"
   ]
  },
  {
   "cell_type": "code",
   "execution_count": 134,
   "metadata": {},
   "outputs": [
    {
     "data": {
      "text/plain": [
       "[]"
      ]
     },
     "execution_count": 134,
     "metadata": {},
     "output_type": "execute_result"
    }
   ],
   "source": [
    "#dp for ugly number\n",
    "def find_ugly(num):\n",
    "    ugly_list = [1]\n",
    "    i2 = i3 = i5 =0\n",
    "    for idx in range(num):\n",
    "        ugly = max"
   ]
  },
  {
   "cell_type": "code",
   "execution_count": 168,
   "metadata": {},
   "outputs": [
    {
     "data": {
      "text/plain": [
       "'Not happy'"
      ]
     },
     "execution_count": 168,
     "metadata": {},
     "output_type": "execute_result"
    }
   ],
   "source": [
    "# Happy number\n",
    "def num_sqr(num):\n",
    "    total = 0\n",
    "    while num:\n",
    "        total += (num % 10) ** 2\n",
    "        num = num // 10\n",
    "    return total\n",
    "def is_happy(num):\n",
    "    lookup = {}\n",
    "    while True:\n",
    "        num = num_sqr(num)\n",
    "        if num == 1:\n",
    "            return \"Happy\"\n",
    "        if num not in lookup:\n",
    "            lookup[num] = 1\n",
    "        else:\n",
    "            return \"Not happy\"\n",
    "        \n",
    "is_happy(20)"
   ]
  },
  {
   "cell_type": "code",
   "execution_count": 180,
   "metadata": {},
   "outputs": [
    {
     "data": {
      "text/plain": [
       "False"
      ]
     },
     "execution_count": 180,
     "metadata": {},
     "output_type": "execute_result"
    }
   ],
   "source": [
    "# is power of 3\n",
    "def power_of_three(num):\n",
    "    if num <= 0:\n",
    "        return False\n",
    "    while num != 1:\n",
    "        if num % 3 != 0:\n",
    "            return False\n",
    "        num /= 3\n",
    "    return True\n",
    "power_of_three(12)"
   ]
  },
  {
   "cell_type": "code",
   "execution_count": 188,
   "metadata": {},
   "outputs": [
    {
     "data": {
      "text/plain": [
       "8"
      ]
     },
     "execution_count": 188,
     "metadata": {},
     "output_type": "execute_result"
    }
   ],
   "source": [
    "#brute force\n",
    "def max_diff1(nums):\n",
    "    if len(nums) < 2:\n",
    "        return None\n",
    "    m = nums[-1] - nums[0]\n",
    "    for pi in range(len(nums)):\n",
    "        for pj in range(pi, len(nums)):\n",
    "            m = max(m, nums[pj] - nums[pi])\n",
    "    return m\n",
    "\n",
    "max_diff1([2, 3, 10, 6, 4, 8, 1])"
   ]
  },
  {
   "cell_type": "code",
   "execution_count": 190,
   "metadata": {},
   "outputs": [
    {
     "data": {
      "text/plain": [
       "8"
      ]
     },
     "execution_count": 190,
     "metadata": {},
     "output_type": "execute_result"
    }
   ],
   "source": [
    "def max_diff2(nums):\n",
    "    if len(nums) < 2:\n",
    "        return None\n",
    "    ma = nums[-1] - nums[0]\n",
    "    mi = nums[0]\n",
    "    for idx in range(len(nums)):\n",
    "        mi = min(nums[idx], mi)\n",
    "        ma = max(ma, nums[idx] - mi)\n",
    "        \n",
    "\n",
    "    return ma\n",
    "\n",
    "max_diff2([2, 3, 10, 6, 4, 8, 1])"
   ]
  },
  {
   "cell_type": "code",
   "execution_count": 191,
   "metadata": {},
   "outputs": [
    {
     "data": {
      "text/plain": [
       "[0, 1, 8, 8, 8, 8, 8]"
      ]
     },
     "execution_count": 191,
     "metadata": {},
     "output_type": "execute_result"
    }
   ],
   "source": [
    "# build dp array \n",
    "def max_diff3(nums):\n",
    "    dp = [0] * len(nums)\n",
    "    mi = nums[0]\n",
    "    for idx in range(1, len(nums)):\n",
    "        mi = min(mi, nums[idx])\n",
    "        dp[idx] = max(nums[idx] - mi, dp[idx - 1])\n",
    "    return dp\n",
    "max_diff3([2, 3, 10, 6, 4, 8, 1])"
   ]
  },
  {
   "cell_type": "code",
   "execution_count": 201,
   "metadata": {},
   "outputs": [],
   "source": [
    "def maxProfit(prices):\n",
    "        \"\"\"\n",
    "        :type prices: List[int]\n",
    "        :rtype: int\n",
    "        \"\"\"\n",
    "        if not prices: return 0\n",
    "        dp = [0] * len(prices)\n",
    "        min_price = prices[0]\n",
    "        for i in range(1, len(prices)):\n",
    "            dp[i] = max(dp[i - 1], prices[i] - min_price)\n",
    "            min_price = min(prices[i], min_price)\n",
    "        \n",
    "        ans = dp[-1]\n",
    "        max_price = prices[-1]\n",
    "        for i in range(len(prices) - 2, 0, -1):\n",
    "            print(ans, max_price, prices[i], dp[i-1])\n",
    "            ans = max(ans, max_price - prices[i] + dp[i - 1])\n",
    "            max_price = max(max_price, prices[i])\n",
    "            \n",
    "        return ans"
   ]
  },
  {
   "cell_type": "code",
   "execution_count": 202,
   "metadata": {},
   "outputs": [
    {
     "name": "stdout",
     "output_type": "stream",
     "text": [
      "8 1 8 8\n",
      "8 8 4 8\n",
      "12 8 6 8\n",
      "12 8 10 1\n",
      "12 10 3 0\n"
     ]
    },
    {
     "data": {
      "text/plain": [
       "12"
      ]
     },
     "execution_count": 202,
     "metadata": {},
     "output_type": "execute_result"
    }
   ],
   "source": [
    "maxProfit([2, 3, 10, 6, 4, 8, 1])"
   ]
  },
  {
   "cell_type": "code",
   "execution_count": 208,
   "metadata": {},
   "outputs": [
    {
     "data": {
      "text/plain": [
       "False"
      ]
     },
     "execution_count": 208,
     "metadata": {},
     "output_type": "execute_result"
    }
   ],
   "source": [
    "bin(4).startswith(\"0b1\") and bin(5).count('1') == 1"
   ]
  },
  {
   "cell_type": "code",
   "execution_count": 211,
   "metadata": {},
   "outputs": [
    {
     "data": {
      "text/plain": [
       "[]"
      ]
     },
     "execution_count": 211,
     "metadata": {},
     "output_type": "execute_result"
    }
   ],
   "source": [
    "list(range(5, 0, 1))"
   ]
  },
  {
   "cell_type": "code",
   "execution_count": 223,
   "metadata": {},
   "outputs": [
    {
     "name": "stdout",
     "output_type": "stream",
     "text": [
      "0 0\n",
      "2 1\n",
      "3 2\n",
      "6 3\n",
      "[1, 2, 3, 4, 5, 4, 4, 5, 5]\n"
     ]
    }
   ],
   "source": [
    "def remove_duplicates(arr):\n",
    "    length = len(arr)\n",
    "    if length <=1:\n",
    "        return n\n",
    "    pointer = 0\n",
    "    for idx in range(length - 1):\n",
    "        if arr[idx] != arr[idx + 1]:\n",
    "            arr[pointer] = arr[idx]\n",
    "            print(idx, pointer)\n",
    "            pointer += 1\n",
    "    arr[pointer] = arr[length -1]\n",
    "    print(arr)\n",
    "    return pointer\n",
    "\n",
    "n = remove_duplicates([1, 2, 2, 3, 4, 4,\n",
    "                       4, 5, 5])"
   ]
  },
  {
   "cell_type": "code",
   "execution_count": 243,
   "metadata": {},
   "outputs": [
    {
     "name": "stdout",
     "output_type": "stream",
     "text": [
      "1 0\n"
     ]
    },
    {
     "data": {
      "text/plain": [
       "[1, 0, 0]"
      ]
     },
     "execution_count": 243,
     "metadata": {},
     "output_type": "execute_result"
    }
   ],
   "source": [
    "def plus(num1, num2):\n",
    "    p1 = len(num1) - 1\n",
    "    p2 = len(num2) - 1\n",
    "    carry_on = 0\n",
    "    output = []\n",
    "    while p1 >=0 or p2 >= 0:\n",
    "        if p1 >= 0 and p2 >= 0:\n",
    "            print(p1, p2)\n",
    "            val = num1[p1] + num2[p2]\n",
    "        elif p1 >= 0 and p2 < 0:\n",
    "            val = num1[p1]\n",
    "        elif p1 < 0 and p2 >= 0:\n",
    "            val = num2[p2]\n",
    "        val = val + carry_on\n",
    "        if val >= 10:\n",
    "            val = val - 10\n",
    "            carry_on = 1\n",
    "        else:\n",
    "            carry_on = 0\n",
    "        p1 -= 1\n",
    "        p2 -= 1\n",
    "        output.insert(0, val)\n",
    "    if carry_on:\n",
    "        output.insert(0, carry_on)\n",
    "        \n",
    "    return output\n",
    "plus([9,8], [2])"
   ]
  },
  {
   "cell_type": "code",
   "execution_count": 257,
   "metadata": {},
   "outputs": [],
   "source": [
    "def pascal(numRows):\n",
    "    res = [[1]]\n",
    "    for i in range(1, numRows):\n",
    "        res.append(list(map(lambda x, y: x + y, res[-1] + [0], [0] + res[-1])))\n",
    "    return res\n"
   ]
  },
  {
   "cell_type": "code",
   "execution_count": 266,
   "metadata": {},
   "outputs": [
    {
     "data": {
      "text/plain": [
       "[[1]]"
      ]
     },
     "execution_count": 266,
     "metadata": {},
     "output_type": "execute_result"
    }
   ],
   "source": [
    "pascal(1)"
   ]
  },
  {
   "cell_type": "code",
   "execution_count": 262,
   "metadata": {},
   "outputs": [],
   "source": [
    "# Test method, do not use\n",
    "def pascal(num):\n",
    "    res = []\n",
    "    for i in range(1, num + 1):\n",
    "        if i == 1:\n",
    "            row = [1]\n",
    "            res.append(row)\n",
    "        else:\n",
    "            row = [x + y for x, y in zip([0] + row, row + [0])]\n",
    "            res.append(row)\n",
    "    return res\n",
    "        "
   ]
  },
  {
   "cell_type": "code",
   "execution_count": 265,
   "metadata": {},
   "outputs": [
    {
     "data": {
      "text/plain": [
       "[[1], [1, 1]]"
      ]
     },
     "execution_count": 265,
     "metadata": {},
     "output_type": "execute_result"
    }
   ],
   "source": [
    "pascal(2)"
   ]
  },
  {
   "cell_type": "code",
   "execution_count": 268,
   "metadata": {},
   "outputs": [
    {
     "data": {
      "text/plain": [
       "24"
      ]
     },
     "execution_count": 268,
     "metadata": {},
     "output_type": "execute_result"
    }
   ],
   "source": [
    "def factor_zero(num):\n",
    "    count = 0\n",
    "    base = 5\n",
    "    while num // base > 0:\n",
    "        count += int(num / base)\n",
    "        base *= 5\n",
    "    return count\n",
    "factor_zero(100)"
   ]
  },
  {
   "cell_type": "code",
   "execution_count": 283,
   "metadata": {},
   "outputs": [
    {
     "data": {
      "text/plain": [
       "False"
      ]
     },
     "execution_count": 283,
     "metadata": {},
     "output_type": "execute_result"
    }
   ],
   "source": [
    "def is_palindrome(num):\n",
    "    original = num\n",
    "    if num < 0:\n",
    "        return False \n",
    "    out = 0\n",
    "    while num > 0:\n",
    "        out = out * 10 + num % 10\n",
    "        num = num // 10\n",
    "    return out == original\n",
    "is_palindrome(45546)"
   ]
  },
  {
   "cell_type": "code",
   "execution_count": 288,
   "metadata": {},
   "outputs": [
    {
     "data": {
      "text/plain": [
       "[0, 1, 2, 3, 5, 6, 8, 9]"
      ]
     },
     "execution_count": 288,
     "metadata": {},
     "output_type": "execute_result"
    }
   ],
   "source": [
    "# Two steps\n",
    "# 1) when both arrays have data, pick and compare\n",
    "# 2) when one array depleted, put all of the second one in\n",
    "def merge_sorted(arr1, arr2):\n",
    "    output = [None] * (len(arr1) + len(arr2))\n",
    "    i = j = k = 0\n",
    "    while i < len(arr1) and j < len(arr2):\n",
    "        if arr1[i] < arr2[j]:\n",
    "            output[k] = arr1[i]\n",
    "            i += 1\n",
    "            k += 1\n",
    "        else:\n",
    "            output[k] = arr2[j]\n",
    "            j += 1\n",
    "            k += 1\n",
    "    while i < len(arr1):\n",
    "        output[k] = arr1[i]\n",
    "        i += 1\n",
    "        k += 1\n",
    "    while j < len(arr2):\n",
    "        output[k] = arr2[j]\n",
    "        j += 1\n",
    "        k += 1\n",
    "    return output\n",
    "merge_sorted([1, 5, 8], [0, 2, 3, 6, 9])"
   ]
  },
  {
   "cell_type": "markdown",
   "metadata": {},
   "source": [
    "# Slice list of lists"
   ]
  },
  {
   "cell_type": "code",
   "execution_count": 301,
   "metadata": {},
   "outputs": [
    {
     "name": "stdout",
     "output_type": "stream",
     "text": [
      "[1, 3]\n"
     ]
    }
   ],
   "source": [
    "# How to slice 2D array\n",
    "# np array is easy a[:, 0]\n",
    "# with list of lists, use list comprehension\n",
    "\n",
    "a = [[1, 2], [3, 4]]\n",
    "print([tmp[0] for tmp in a])\n",
    "#another example to form long list from 2d\n",
    "# [board[s][t] for s in [i, i+1, i+2] for t in [j, j+1, j+2]]"
   ]
  },
  {
   "cell_type": "code",
   "execution_count": 335,
   "metadata": {},
   "outputs": [],
   "source": [
    "def validate_para(string):\n",
    "    stack = []\n",
    "    pair = {\")\": \"(\", \"]\": \"[\", \"}\": \"{\"}\n",
    "    for char in string:\n",
    "        if char in pair and pair[char] == stack[-1]:\n",
    "            stack.pop()\n",
    "        else:\n",
    "            stack.append(char)\n",
    "    return stack"
   ]
  },
  {
   "cell_type": "code",
   "execution_count": 336,
   "metadata": {},
   "outputs": [
    {
     "data": {
      "text/plain": [
       "[]"
      ]
     },
     "execution_count": 336,
     "metadata": {},
     "output_type": "execute_result"
    }
   ],
   "source": [
    "validate_para(\"({}[()]){}\")"
   ]
  },
  {
   "cell_type": "code",
   "execution_count": 337,
   "metadata": {},
   "outputs": [],
   "source": [
    "# cow and bulls -- for paired structure, use \n",
    "# for x, y in zip(X, Y)"
   ]
  },
  {
   "cell_type": "code",
   "execution_count": 365,
   "metadata": {},
   "outputs": [],
   "source": [
    "# Count and say\n",
    "# still not working, but idea is correct\n",
    " \n",
    "def count_and_say(num):\n",
    "    out = []\n",
    "    out.append('1')\n",
    "\n",
    "    for idx in range(1, num):\n",
    "        read = out[-1]\n",
    "        counter = 0\n",
    "        for idy in range(len(read)):\n",
    "            readout = ''\n",
    "            single_num = read[idy]\n",
    "            counter = 1\n",
    "            while idy < len(read) - 1 and read[idy + 1] == read[idy]:\n",
    "                counter += 1\n",
    "                idy += 1\n",
    "            print(counter)\n",
    "            readout = readout + str(counter) + single_num\n",
    "        out.append(str(counter) + readout)\n",
    "    return out\n",
    "\n",
    "        "
   ]
  },
  {
   "cell_type": "code",
   "execution_count": 371,
   "metadata": {},
   "outputs": [
    {
     "name": "stdout",
     "output_type": "stream",
     "text": [
      "('x', 'y')\n"
     ]
    }
   ],
   "source": [
    "# check palindram\n",
    "def is_palindram(s):\n",
    "    cleanlist = [c for c in s.lower() if c.isalnum()]\n",
    "    return cleanlist == cleanlist[::-1]"
   ]
  },
  {
   "cell_type": "code",
   "execution_count": 381,
   "metadata": {},
   "outputs": [
    {
     "data": {
      "text/plain": [
       "['1', '3', '5->6']"
      ]
     },
     "execution_count": 381,
     "metadata": {},
     "output_type": "execute_result"
    }
   ],
   "source": [
    "#summary range\n",
    "def summaryRanges(nums):\n",
    "    ranges = []\n",
    "    for n in nums:\n",
    "        if not ranges or n > ranges[-1][-1] + 1:\n",
    "            ranges += [],\n",
    "        ranges[-1][1:] = n,\n",
    "    return ['->'.join(map(str, r)) for r in ranges]\n",
    "summaryRanges([1, 3, 5, 6])"
   ]
  },
  {
   "cell_type": "code",
   "execution_count": 382,
   "metadata": {},
   "outputs": [],
   "source": [
    "class MinStack:\n",
    "    # @param x, an integer\n",
    "    # @return an integer\n",
    "    def __init__(self):\n",
    "        self.nodes = [] #元素栈\n",
    "        self.minNodes = [] #最小值栈\n",
    "\n",
    "    def push(self, x):\n",
    "        self.nodes.append(x)\n",
    "        if len(self.minNodes):\n",
    "            x = min(self.minNodes[-1], x)\n",
    "        self.minNodes.append(x)\n",
    "\n",
    "    def pop(self):\n",
    "        self.minNodes.pop()\n",
    "        return self.nodes.pop()\n",
    "\n",
    "    def top(self):\n",
    "        return self.nodes[-1]\n",
    "\n",
    "    def getMin(self):\n",
    "        return self.minNodes[-1]"
   ]
  },
  {
   "cell_type": "code",
   "execution_count": 388,
   "metadata": {},
   "outputs": [],
   "source": [
    "ms = MinStack()\n",
    "ms.push(5)\n",
    "ms.push(1)\n",
    "ms.push(3)\n",
    "ms.push(6)"
   ]
  },
  {
   "cell_type": "code",
   "execution_count": 390,
   "metadata": {},
   "outputs": [
    {
     "name": "stdout",
     "output_type": "stream",
     "text": [
      "[5, 1, 1]\n",
      "[5, 1, 3]\n"
     ]
    }
   ],
   "source": [
    "ms.pop()\n",
    "print(ms.minNodes)\n",
    "print(ms.nodes)"
   ]
  },
  {
   "cell_type": "code",
   "execution_count": 406,
   "metadata": {},
   "outputs": [
    {
     "data": {
      "text/plain": [
       "[0, 1, 1, 2, 1, 2, 2, 3, 1, 2, 2, 3, 2, 3, 3, 4]"
      ]
     },
     "execution_count": 406,
     "metadata": {},
     "output_type": "execute_result"
    }
   ],
   "source": [
    "# count bits in binary, with O(n), use DP\n",
    "# 0-0, 1-1, 2-1, 3-2, 4-1. 2^n should always be 1, then to 2^(n+1) need to add previous numbers\n",
    "# What we learned\n",
    "# a good example of while True loop, and exit when enough data generated. Need i++ inside\n",
    "# a good example of DP, operating j items range(2^i, 2^(i+1))\n",
    "def count_bits(num):\n",
    "    output = [0]\n",
    "    i = 0\n",
    "    while True:\n",
    "        for j in range(2 ** i, 2 ** (i + 1)):\n",
    "            if j > num:\n",
    "                return output\n",
    "            else:\n",
    "                output.append(output[j - 2 ** i] + 1)\n",
    "        i += 1\n",
    "count_bits(15)"
   ]
  },
  {
   "cell_type": "code",
   "execution_count": 396,
   "metadata": {},
   "outputs": [
    {
     "data": {
      "text/plain": [
       "8"
      ]
     },
     "execution_count": 396,
     "metadata": {},
     "output_type": "execute_result"
    }
   ],
   "source": [
    "2**3"
   ]
  },
  {
   "cell_type": "code",
   "execution_count": null,
   "metadata": {},
   "outputs": [],
   "source": []
  }
 ],
 "metadata": {
  "kernelspec": {
   "display_name": "Python 3",
   "language": "python",
   "name": "python3"
  },
  "language_info": {
   "codemirror_mode": {
    "name": "ipython",
    "version": 3
   },
   "file_extension": ".py",
   "mimetype": "text/x-python",
   "name": "python",
   "nbconvert_exporter": "python",
   "pygments_lexer": "ipython3",
   "version": "3.5.2"
  }
 },
 "nbformat": 4,
 "nbformat_minor": 2
}
