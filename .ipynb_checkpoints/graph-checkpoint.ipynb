{
 "cells": [
  {
   "cell_type": "code",
   "execution_count": 29,
   "metadata": {},
   "outputs": [],
   "source": [
    "from collections import defaultdict\n",
    "class Graph(object):\n",
    "    def __init__(self):\n",
    "        self.graph = defaultdict(set)\n",
    "    \n",
    "    def add_edge(self, u, v):\n",
    "        self.graph[u].add(v)\n",
    "\n",
    "def make_graph():\n",
    "    graph = Graph()\n",
    "    graph.add_edge(0, 1)\n",
    "    graph.add_edge(0, 2)\n",
    "    graph.add_edge(1, 2)\n",
    "    graph.add_edge(2, 0)\n",
    "    graph.add_edge(2, 3)\n",
    "    graph.add_edge(3, 3)\n",
    "    return graph\n",
    "\n",
    "g = make_graph()"
   ]
  },
  {
   "cell_type": "code",
   "execution_count": 30,
   "metadata": {},
   "outputs": [
    {
     "data": {
      "text/plain": [
       "defaultdict(set, {0: {1, 2}, 1: {2}, 2: {0, 3}, 3: {3}})"
      ]
     },
     "execution_count": 30,
     "metadata": {},
     "output_type": "execute_result"
    }
   ],
   "source": [
    "g.graph"
   ]
  },
  {
   "cell_type": "code",
   "execution_count": 31,
   "metadata": {},
   "outputs": [
    {
     "name": "stdout",
     "output_type": "stream",
     "text": [
      "{1, 2}\n",
      "{2}\n",
      "{0, 3}\n",
      "{3}\n"
     ]
    }
   ],
   "source": [
    "for i in g.graph:\n",
    "    print(g.graph[i])"
   ]
  },
  {
   "cell_type": "code",
   "execution_count": 82,
   "metadata": {},
   "outputs": [
    {
     "name": "stdout",
     "output_type": "stream",
     "text": [
      "2\n",
      "queue [0, 3]\n",
      "0\n",
      "queue [3, 1]\n",
      "3\n",
      "queue [1]\n",
      "1\n",
      "queue []\n"
     ]
    },
    {
     "data": {
      "text/plain": [
       "{0, 1, 2, 3}"
      ]
     },
     "execution_count": 82,
     "metadata": {},
     "output_type": "execute_result"
    }
   ],
   "source": [
    "# Method 1, print vertex but work on neigbhors\n",
    "# trick 1, any neighbor not in visited, add to visited and queue\n",
    "# trick 2, start vertex need to be added to visited first, otherwise it will be counted twice\n",
    "# Since later we work on `neighbors` only\n",
    "# trick 3, use queue, pop(0) or deque popleft()\n",
    "def bfs(graph, start):\n",
    "    visited = set()\n",
    "    queue = []\n",
    "    queue.append(start)\n",
    "    visited.add(start)\n",
    "    while queue:\n",
    "        vertex = queue.pop(0)\n",
    "        print(vertex)\n",
    "        for neighbor in graph[vertex]:\n",
    "            if neighbor not in visited:\n",
    "                visited.add(neighbor)\n",
    "                queue.append(neighbor)\n",
    "        print('queue', queue)\n",
    "    return visited\n",
    "bfs(g.graph, 2)"
   ]
  },
  {
   "cell_type": "code",
   "execution_count": 83,
   "metadata": {},
   "outputs": [
    {
     "name": "stdout",
     "output_type": "stream",
     "text": [
      "2\n",
      "queue [0, 3]\n",
      "0\n",
      "queue [3, 1]\n",
      "3\n",
      "queue [1]\n",
      "1\n",
      "queue []\n"
     ]
    },
    {
     "data": {
      "text/plain": [
       "{0, 1, 2, 3}"
      ]
     },
     "execution_count": 83,
     "metadata": {},
     "output_type": "execute_result"
    }
   ],
   "source": [
    "# Method 2, print and work on vertex\n",
    "# for any vertex in queue, examine and decide\n",
    "# if not visited\n",
    "# add non visisted neighbors to queue\n",
    "def bfs(graph, start):\n",
    "    queue = [start]\n",
    "    visited = set()\n",
    "    while queue:\n",
    "        vertex = queue.pop(0)\n",
    "        print(vertex)\n",
    "        if vertex not in visited:\n",
    "            visited.add(vertex)\n",
    "            queue.extend(graph[vertex] - visited)\n",
    "        print('queue', queue)\n",
    "    return visited\n",
    "bfs(g.graph, 2)"
   ]
  },
  {
   "cell_type": "code",
   "execution_count": 256,
   "metadata": {},
   "outputs": [],
   "source": [
    "# New graph for test\n",
    "graph = {'A': set(['B', 'C']),\n",
    "         'B': set(['A', 'D', 'E']),\n",
    "         'C': set(['A', 'F']),\n",
    "         'D': set(['B']),\n",
    "         'E': set(['B', 'F']),\n",
    "         'F': set(['C', 'E'])}\n"
   ]
  },
  {
   "cell_type": "code",
   "execution_count": 107,
   "metadata": {},
   "outputs": [
    {
     "name": "stdout",
     "output_type": "stream",
     "text": [
      "2 3 0 1 \n",
      "A B D E F C C "
     ]
    },
    {
     "data": {
      "text/plain": [
       "{'A', 'B', 'C', 'D', 'E', 'F'}"
      ]
     },
     "execution_count": 107,
     "metadata": {},
     "output_type": "execute_result"
    }
   ],
   "source": [
    "# Note, the print will print extra vertex\n",
    "# track the visited everything looks good\n",
    "# use stack to track, other the same as bfs\n",
    "def dfs(graph, start):\n",
    "    visited = set()\n",
    "    stack = [start]\n",
    "    while stack:\n",
    "        vertex = stack.pop()\n",
    "        print(vertex, end=' ')\n",
    "        if vertex not in visited:\n",
    "            visited.add(vertex)\n",
    "            stack.extend(graph[vertex] - visited)\n",
    "    return visited\n",
    "dfs(g.graph, 2)\n",
    "print()\n",
    "dfs(graph, 'A')"
   ]
  },
  {
   "cell_type": "code",
   "execution_count": 108,
   "metadata": {},
   "outputs": [
    {
     "name": "stdout",
     "output_type": "stream",
     "text": [
      "A C F E B D B \n",
      "2 0 1 3 "
     ]
    },
    {
     "data": {
      "text/plain": [
       "{0, 1, 2, 3}"
      ]
     },
     "execution_count": 108,
     "metadata": {},
     "output_type": "execute_result"
    }
   ],
   "source": [
    "# use recursive\n",
    "# the key is to have a global like variable, or a mutable datatype\n",
    "def dfs(graph, start, visited=None):\n",
    "    if visited is None:\n",
    "        visited = set()\n",
    "    visited.add(start)\n",
    "    print(start, end=' ')\n",
    "    for neighbor in graph[start] - visited:\n",
    "        dfs(graph, neighbor, visited)\n",
    "    return visited\n",
    "dfs(graph, 'A')\n",
    "print()\n",
    "dfs(g.graph, 2)"
   ]
  },
  {
   "cell_type": "code",
   "execution_count": 261,
   "metadata": {},
   "outputs": [
    {
     "data": {
      "text/plain": [
       "{'A', 'B', 'C', 'D', 'E', 'F'}"
      ]
     },
     "execution_count": 261,
     "metadata": {},
     "output_type": "execute_result"
    }
   ],
   "source": [
    "def dfs_recu(graph, start, visited=None):\n",
    "    if visited is None:\n",
    "        visited = set()\n",
    "    visited.add(start)\n",
    "    for neighbor in graph[start] - visited:\n",
    "        dfs_recu(graph, neighbor, visited)\n",
    "    return visited\n",
    "dfs_recu(graph, 'A')"
   ]
  },
  {
   "cell_type": "code",
   "execution_count": 121,
   "metadata": {},
   "outputs": [
    {
     "data": {
      "text/plain": [
       "[['A', 'B', 'E', 'F'], ['A', 'C', 'F']]"
      ]
     },
     "execution_count": 121,
     "metadata": {},
     "output_type": "execute_result"
    }
   ],
   "source": [
    "# path finding\n",
    "def dfs_paths(graph, start, goal):\n",
    "    stack = [(start, [start])]\n",
    "    while stack:\n",
    "        (vertex, path) = stack.pop()\n",
    "        for neighbor in graph[vertex] - set(path):\n",
    "            if neighbor == goal:\n",
    "                yield path + [neighbor]\n",
    "            else:\n",
    "                stack.append((neighbor, path + [neighbor]))\n",
    "\n",
    "list(dfs_paths(graph, 'A', 'F'))"
   ]
  },
  {
   "cell_type": "code",
   "execution_count": 262,
   "metadata": {},
   "outputs": [
    {
     "data": {
      "text/plain": [
       "[['A', 'C', 'F'], ['A', 'B', 'E', 'F']]"
      ]
     },
     "execution_count": 262,
     "metadata": {},
     "output_type": "execute_result"
    }
   ],
   "source": [
    "def dfs_paths(graph, start, goal, path=None):\n",
    "    if path is None:\n",
    "        path = [start]\n",
    "    if start == goal:\n",
    "        yield path\n",
    "    for neighbor in graph[start] - set(path):\n",
    "        yield from dfs_paths(graph, neighbor, goal, path + [neighbor])\n",
    "\n",
    "list(dfs_paths(graph, 'A', 'F'))"
   ]
  },
  {
   "cell_type": "code",
   "execution_count": 116,
   "metadata": {},
   "outputs": [
    {
     "data": {
      "text/plain": [
       "[['A', 'C', 'F'], ['A', 'B', 'E', 'F']]"
      ]
     },
     "execution_count": 116,
     "metadata": {},
     "output_type": "execute_result"
    }
   ],
   "source": [
    "def bfs_paths(graph, start, goal):\n",
    "    queue = [(start, [start])]\n",
    "    while queue:\n",
    "        (vertex, path) = queue.pop(0)\n",
    "        for neighbor in graph[vertex] - set(path):\n",
    "            if neighbor == goal:\n",
    "                yield path + [neighbor]\n",
    "            else:\n",
    "                queue.append((neighbor, path + [neighbor]))\n",
    "\n",
    "list(bfs_paths(graph, 'A', 'F'))"
   ]
  },
  {
   "cell_type": "code",
   "execution_count": 115,
   "metadata": {},
   "outputs": [
    {
     "data": {
      "text/plain": [
       "['A', 'C', 'F']"
      ]
     },
     "execution_count": 115,
     "metadata": {},
     "output_type": "execute_result"
    }
   ],
   "source": [
    "def shortest_path(graph, start, goal):\n",
    "    try:\n",
    "        return next(bfs_paths(graph, start, goal))\n",
    "    except StopIteration:\n",
    "        return None\n",
    "\n",
    "shortest_path(graph, 'A', 'F')"
   ]
  },
  {
   "cell_type": "code",
   "execution_count": 255,
   "metadata": {},
   "outputs": [
    {
     "name": "stdout",
     "output_type": "stream",
     "text": [
      "[1]\n",
      "[1]\n",
      "[1]\n",
      "[1, 2]\n",
      "[1, 2]\n",
      "[1, 3]\n",
      "[1, 4]\n",
      "[1, 4]\n",
      "[1, 2, 5]\n",
      "[1, 2, 5]\n",
      "[1, 4, 7]\n",
      "[1, 4, 7]\n",
      "[1, 4, 7, 11]\n"
     ]
    },
    {
     "data": {
      "text/plain": [
       "[1, 4, 7, 11, 13]"
      ]
     },
     "execution_count": 255,
     "metadata": {},
     "output_type": "execute_result"
    }
   ],
   "source": [
    "#acyclic graph\n",
    "def bfs_path(graph, start, end):\n",
    "    queue = [[start]]\n",
    "    visited = set()\n",
    "    while queue:\n",
    "        path = queue.pop(0)\n",
    "        vertex = path[-1]\n",
    "        if vertex == end:\n",
    "            return path\n",
    "        elif vertex not in visited:\n",
    "            for neighbor in graph[vertex]:\n",
    "                new_path = path.copy()\n",
    "                new_path.append(neighbor)\n",
    "                queue.append(new_path)\n",
    "            visited.add(vertex)\n",
    "bfs(graph, 1, 13)"
   ]
  },
  {
   "cell_type": "code",
   "execution_count": 132,
   "metadata": {},
   "outputs": [
    {
     "data": {
      "text/plain": [
       "[2, 3, 4]"
      ]
     },
     "execution_count": 132,
     "metadata": {},
     "output_type": "execute_result"
    }
   ],
   "source": [
    "graph[1]"
   ]
  },
  {
   "cell_type": "code",
   "execution_count": 185,
   "metadata": {},
   "outputs": [
    {
     "name": "stdout",
     "output_type": "stream",
     "text": [
      "path {1}\n",
      "inside for 2 {1}\n",
      "path {1, 2}\n",
      "inside for 3 {1, 2}\n",
      "path {1, 2, 3}\n",
      "removed vertex 3\n",
      "after recursive path {1, 2}\n",
      "removed vertex 2\n",
      "after recursive path {1}\n",
      "inside for 3 {1}\n",
      "path {1, 3}\n",
      "removed vertex 3\n",
      "after recursive path {1}\n",
      "removed vertex 1\n",
      "after recursive path set()\n"
     ]
    },
    {
     "data": {
      "text/plain": [
       "False"
      ]
     },
     "execution_count": 185,
     "metadata": {},
     "output_type": "execute_result"
    }
   ],
   "source": [
    "# Ideas: DFS search and store the path for comparison\n",
    "# DFS  through one route to the end, check if any neighbor in existing paths\n",
    "# Before DFS the second route, remove existing nodes \n",
    "\n",
    "g = {\n",
    "    1: [2, 3],\n",
    "    2: [3]\n",
    "}\n",
    "\n",
    "def cyclic(g):\n",
    "    \"\"\"Return True if the directed graph g has a cycle.\n",
    "    g must be represented as a dictionary mapping vertices to\n",
    "    iterables of neighbouring vertices. For example:\n",
    "\n",
    "    >>> cyclic({1: (2,), 2: (3,), 3: (1,)})\n",
    "    True\n",
    "    >>> cyclic({1: (2,), 2: (3,), 3: (4,)})\n",
    "    False\n",
    "\n",
    "    \"\"\"\n",
    "    path = set()\n",
    "    visited = set()\n",
    "\n",
    "    def visit(vertex):\n",
    "\n",
    "        path.add(vertex)\n",
    "        print(\"path\", path)\n",
    "        for neighbour in g.get(vertex, ()):\n",
    "            print(\"inside for\", neighbour, path)\n",
    "            if neighbour in path or visit(neighbour):\n",
    "                print(\"hi neighbor, path\", neighbour, path)\n",
    "                return True\n",
    "        print(\"removed vertex\", vertex)\n",
    "        path.remove(vertex)\n",
    "        print(\"after recursive path\", path)\n",
    "        return False\n",
    "\n",
    "    #return any(visit(v) for v in g)\n",
    "    return visit(1)\n",
    "cyclic(g)"
   ]
  },
  {
   "cell_type": "code",
   "execution_count": null,
   "metadata": {},
   "outputs": [],
   "source": []
  },
  {
   "cell_type": "code",
   "execution_count": 176,
   "metadata": {},
   "outputs": [
    {
     "name": "stdout",
     "output_type": "stream",
     "text": [
      "vertex, path, visited 1 {1} {1}\n",
      "inside for vertex, neighbour, path 1 2 {1}\n",
      "vertex, path, visited 2 {1, 2} {1, 2}\n",
      "inside for vertex, neighbour, path 2 3 {1, 2}\n",
      "vertex, path, visited 3 {1, 2, 3} {1, 2, 3}\n",
      "inside for vertex, neighbour, path 1 3 {1}\n"
     ]
    },
    {
     "data": {
      "text/plain": [
       "False"
      ]
     },
     "execution_count": 176,
     "metadata": {},
     "output_type": "execute_result"
    }
   ],
   "source": [
    "# To make it more efficient, add another set visited\n",
    "# In each DFS route, first push vertex in visited\n",
    "# If the vertex already been visited, stop the current DFS recursion\n",
    "# Ideas: DFS search and store the path for comparison\n",
    "# DFS  through one route to the end, check if any neighbor in existing paths\n",
    "# Before DFS the second route, remove existing nodes \n",
    "\n",
    "g = {\n",
    "    1: [2, 3],\n",
    "    2: [3]\n",
    "}\n",
    "def cyclic(g):\n",
    "    \"\"\"Return True if the directed graph g has a cycle.\n",
    "    g must be represented as a dictionary mapping vertices to\n",
    "    iterables of neighbouring vertices. For example:\n",
    "\n",
    "    >>> cyclic({1: (2,), 2: (3,), 3: (1,)})\n",
    "    True\n",
    "    >>> cyclic({1: (2,), 2: (3,), 3: (4,)})\n",
    "    False\n",
    "\n",
    "    \"\"\"\n",
    "    path = set()\n",
    "    visited = set()\n",
    "\n",
    "    def visit(vertex):\n",
    "        if vertex in visited:\n",
    "            return False\n",
    "        visited.add(vertex)\n",
    "        path.add(vertex)\n",
    "        print(\"vertex, path, visited\", vertex, path, visited)\n",
    "        for neighbour in g.get(vertex, ()):\n",
    "            print(\"inside for vertex, neighbour, path\", vertex, neighbour, path)\n",
    "            if neighbour in path or visit(neighbour):\n",
    "                return True\n",
    "        path.remove(vertex)\n",
    "        return False\n",
    "\n",
    "    return any(visit(v) for v in g)\n",
    "cyclic(g)"
   ]
  },
  {
   "cell_type": "code",
   "execution_count": 252,
   "metadata": {},
   "outputs": [
    {
     "data": {
      "text/plain": [
       "[[1, 3, 1], [1, 2, 1], [2, 1, 2], [3, 1, 3]]"
      ]
     },
     "execution_count": 252,
     "metadata": {},
     "output_type": "execute_result"
    }
   ],
   "source": [
    "# Graph, find cycles with yield\n",
    "# There are two possible ways: list of list to store path\n",
    "# list of tuples to store (state, path)\n",
    "\n",
    "def dfs(graph, start, end):\n",
    "    fringe = [(start, [])]\n",
    "    while fringe:\n",
    "        state, path = fringe.pop()\n",
    "        if path and state == end:\n",
    "            yield path\n",
    "            continue\n",
    "        for next_state in graph[state]:\n",
    "            if next_state in path:\n",
    "                continue\n",
    "            fringe.append((next_state, path+[next_state]))\n",
    "\n",
    "graph = { 1: [2, 3, 5], 2: [1], 3: [1], 4: [2], 5: [2] }\n",
    "graph = {1: [2, 3], 2: [1], 3: [1] }\n",
    "cycles = [[node]+path  for node in graph for path in dfs(graph, node, node)]\n",
    "cycles"
   ]
  },
  {
   "cell_type": "code",
   "execution_count": null,
   "metadata": {},
   "outputs": [],
   "source": []
  },
  {
   "cell_type": "code",
   "execution_count": 213,
   "metadata": {},
   "outputs": [
    {
     "data": {
      "text/plain": [
       "[1, 4, 7, 11, 13]"
      ]
     },
     "execution_count": 213,
     "metadata": {},
     "output_type": "execute_result"
    }
   ],
   "source": [
    "# BFS graph search original from stackflow\n",
    "# Skip this one and read athe next cell\n",
    "graph = {\n",
    "    1: [2, 3, 4],\n",
    "    2: [5, 6],\n",
    "    3: [10],\n",
    "    4: [7, 8],\n",
    "    5: [9, 10],\n",
    "    7: [11, 12],\n",
    "    11: [13]\n",
    "}\n",
    "\n",
    "\n",
    "def bfs(graph_to_search, start, end):\n",
    "    queue = [[start]]\n",
    "    visited = set()\n",
    "\n",
    "    while queue:\n",
    "        # Gets the first path in the queue\n",
    "        path = queue.pop(0)\n",
    "\n",
    "        # Gets the last node in the path\n",
    "        vertex = path[-1]\n",
    "\n",
    "        # Checks if we got to the end\n",
    "        if vertex == end:\n",
    "            return path\n",
    "        # We check if the current node is already in the visited nodes set in order not to recheck it\n",
    "        elif vertex not in visited:\n",
    "            # enumerate all adjacent nodes, construct a new path and push it into the queue\n",
    "            for current_neighbour in graph_to_search.get(vertex, []):\n",
    "                new_path = list(path)\n",
    "                new_path.append(current_neighbour)\n",
    "                queue.append(new_path)\n",
    "\n",
    "            # Mark the vertex as visited\n",
    "            visited.add(vertex)\n",
    "\n",
    "\n",
    "bfs(graph, 1, 13)"
   ]
  },
  {
   "cell_type": "code",
   "execution_count": 268,
   "metadata": {},
   "outputs": [
    {
     "data": {
      "text/plain": [
       "[1, 4, 7, 11, 13]"
      ]
     },
     "execution_count": 268,
     "metadata": {},
     "output_type": "execute_result"
    }
   ],
   "source": [
    "# BFS graph search for acyclic graph\n",
    "# Tricks: we are dealing with list of list, if we want to modify internal list, since it is mutable, \n",
    "# need to provide a copy\n",
    "# tricks: since we are not using defaultdict, need to use d.get(key, [])\n",
    "graph = {\n",
    "    1: [2, 3, 4],\n",
    "    2: [5, 6],\n",
    "    3: [10],\n",
    "    4: [7, 8],\n",
    "    5: [9, 10],\n",
    "    7: [11, 12],\n",
    "    11: [13]\n",
    "}\n",
    "\n",
    "def bfs_path(graph, start, end):\n",
    "    queue = [[start]]\n",
    "    visited = set()\n",
    "    while queue:\n",
    "        path = queue.pop(0)\n",
    "        vertex = path[-1]\n",
    "        if vertex == end:\n",
    "            return path\n",
    "        elif vertex not in visited:\n",
    "            for neighbor in graph.get(vertex, []):\n",
    "                new_path = path.copy()\n",
    "                new_path.append(neighbor)\n",
    "                queue.append(new_path)\n",
    "            visited.add(vertex)\n",
    "bfs_path(graph, 1, 13)"
   ]
  },
  {
   "cell_type": "code",
   "execution_count": 275,
   "metadata": {},
   "outputs": [
    {
     "data": {
      "text/plain": [
       "[['A', 'C', 'F'], ['A', 'B', 'E', 'F']]"
      ]
     },
     "execution_count": 275,
     "metadata": {},
     "output_type": "execute_result"
    }
   ],
   "source": [
    "# BFS with yield, could handle acyclic graph\n",
    "\n",
    "graph = {'A': set(['B', 'C']),\n",
    "         'B': set(['A', 'D', 'E']),\n",
    "         'C': set(['A', 'F']),\n",
    "         'D': set(['B']),\n",
    "         'E': set(['B', 'F']),\n",
    "         'F': set(['C', 'E'])}\n",
    "\n",
    "def bfs_paths(graph, start, goal):\n",
    "    queue = [(start, [start])]\n",
    "    while queue:\n",
    "        (vertex, path) = queue.pop(0)\n",
    "        for neighbor in graph[vertex] - set(path):\n",
    "            if neighbor == goal:\n",
    "                yield path + [neighbor]\n",
    "            else:\n",
    "                queue.append((neighbor, path + [neighbor]))\n",
    "list(bfs_paths(graph, 'A', 'F'))\n"
   ]
  },
  {
   "cell_type": "code",
   "execution_count": 271,
   "metadata": {},
   "outputs": [
    {
     "data": {
      "text/plain": [
       "['A', 'C', 'F']"
      ]
     },
     "execution_count": 271,
     "metadata": {},
     "output_type": "execute_result"
    }
   ],
   "source": [
    "def shortest_path(graph, start, goal):\n",
    "    try:\n",
    "        return next(bfs_paths(graph, start, goal))\n",
    "    except StopIteration:\n",
    "        return None\n",
    "\n",
    "shortest_path(graph, 'A', 'F')"
   ]
  },
  {
   "cell_type": "code",
   "execution_count": 278,
   "metadata": {},
   "outputs": [
    {
     "data": {
      "text/plain": [
       "['A', 'C', 'F']"
      ]
     },
     "execution_count": 278,
     "metadata": {},
     "output_type": "execute_result"
    }
   ],
   "source": [
    "next(bfs_paths(graph, 'A', 'F'))"
   ]
  },
  {
   "cell_type": "code",
   "execution_count": 276,
   "metadata": {},
   "outputs": [
    {
     "data": {
      "text/plain": [
       "<generator object bfs_paths at 0x7f3c702aedb0>"
      ]
     },
     "execution_count": 276,
     "metadata": {},
     "output_type": "execute_result"
    }
   ],
   "source": [
    "bfs_paths(graph, 'A', 'F')"
   ]
  },
  {
   "cell_type": "code",
   "execution_count": null,
   "metadata": {},
   "outputs": [],
   "source": []
  }
 ],
 "metadata": {
  "kernelspec": {
   "display_name": "Python 3",
   "language": "python",
   "name": "python3"
  },
  "language_info": {
   "codemirror_mode": {
    "name": "ipython",
    "version": 3
   },
   "file_extension": ".py",
   "mimetype": "text/x-python",
   "name": "python",
   "nbconvert_exporter": "python",
   "pygments_lexer": "ipython3",
   "version": "3.5.2"
  }
 },
 "nbformat": 4,
 "nbformat_minor": 2
}
