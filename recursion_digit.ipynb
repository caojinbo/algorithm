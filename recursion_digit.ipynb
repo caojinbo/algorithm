{
 "cells": [
  {
   "cell_type": "code",
   "execution_count": 5,
   "metadata": {},
   "outputs": [
    {
     "name": "stdout",
     "output_type": "stream",
     "text": [
      "3\n",
      "3\n"
     ]
    }
   ],
   "source": [
    "# digit is a great way to test while loop and recusion\n",
    "\n",
    "# calculate the sum of all digits\n",
    "# tricks quotient keeps divide base, and will reach 0 to stop\n",
    "# add remainder\n",
    "def sum_while(num):\n",
    "    total = 0\n",
    "    while num > 0:\n",
    "        rem = num % 10\n",
    "        total += rem\n",
    "        num = num // 10\n",
    "    return total\n",
    "\n",
    "print(sum_while(12))\n",
    "\n",
    "def sum_rec(num):\n",
    "    if num == 0:\n",
    "        return 0\n",
    "    else:\n",
    "        return num % 10 + sum_rec(num // 10)\n",
    "\n",
    "print(sum_rec(12))"
   ]
  },
  {
   "cell_type": "code",
   "execution_count": 8,
   "metadata": {},
   "outputs": [
    {
     "data": {
      "text/plain": [
       "'1111'"
      ]
     },
     "execution_count": 8,
     "metadata": {},
     "output_type": "execute_result"
    }
   ],
   "source": [
    "# to string is to conver a digit to string out\n",
    "\n",
    "def to_string(num, base):\n",
    "    conversion_str = \"0123456789ABCDEF\"\n",
    "    if num < base:\n",
    "        return conversion_str[num]\n",
    "    else:\n",
    "        return to_string(num // base, base) + conversion_str[num % base]\n",
    "\n",
    "to_string(15, 2)"
   ]
  },
  {
   "cell_type": "code",
   "execution_count": null,
   "metadata": {},
   "outputs": [],
   "source": [
    "# Convert 26 base to 10 base\n",
    "def string_to_digit(string):\n",
    "    conversion = 'abcdefghijklmnopqrstuvwxyz'\n",
    "    output = 0\n",
    "    while len(string):\n",
    "        head = string[0]\n",
    "        string = string[1:]\n",
    "        head = conversion.find(head) + 1\n",
    "        output = output * 26 + head\n",
    "    return output\n",
    "string_to_digit('zy')"
   ]
  }
 ],
 "metadata": {
  "kernelspec": {
   "display_name": "Python 3",
   "language": "python",
   "name": "python3"
  },
  "language_info": {
   "codemirror_mode": {
    "name": "ipython",
    "version": 3
   },
   "file_extension": ".py",
   "mimetype": "text/x-python",
   "name": "python",
   "nbconvert_exporter": "python",
   "pygments_lexer": "ipython3",
   "version": "3.5.2"
  }
 },
 "nbformat": 4,
 "nbformat_minor": 2
}
