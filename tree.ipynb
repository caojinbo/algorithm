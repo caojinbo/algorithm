{
 "cells": [
  {
   "cell_type": "markdown",
   "metadata": {},
   "source": [
    "The tree must be an object which contains\n",
    "1) property: id and children\n",
    "2) methods: add child, get children"
   ]
  },
  {
   "cell_type": "code",
   "execution_count": 3,
   "metadata": {},
   "outputs": [],
   "source": [
    "# A tree node with children in list\n",
    "class Node():\n",
    "    def __init__(self, id):\n",
    "        self.id = id\n",
    "        self.children = []\n",
    "    def add_child(self, node):\n",
    "        self.children.append(node)\n",
    "    def __repr__(self):\n",
    "        return self.id\n",
    "    def get_children(self):\n",
    "        return self.children"
   ]
  },
  {
   "cell_type": "code",
   "execution_count": 9,
   "metadata": {},
   "outputs": [],
   "source": [
    "def make_test_tree():\n",
    "    a0 = Node(\"a0t\")\n",
    "    b0 = Node(\"b0t\")\n",
    "    b1 = Node(\"b1t\")\n",
    "    b2 = Node(\"b2t\")\n",
    "    c0 = Node(\"c0t\")\n",
    "    c1 = Node(\"c1t\")\n",
    "    c2 = Node(\"c2t\")\n",
    "    d0 = Node(\"d0t\")\n",
    "    \n",
    "    a0.add_child(b0)\n",
    "    a0.add_child(b1)\n",
    "    a0.add_child(b2)\n",
    "    b0.add_child(c0)\n",
    "    b0.add_child(c1)\n",
    "    b1.add_child(c2)\n",
    "    c0.add_child(d0)\n",
    "    \n",
    "    return a0\n",
    "x = make_test_tree()"
   ]
  },
  {
   "cell_type": "code",
   "execution_count": 10,
   "metadata": {},
   "outputs": [
    {
     "name": "stdout",
     "output_type": "stream",
     "text": [
      "a0t\n",
      "b0t\n",
      "b1t\n",
      "b2t\n",
      "c0t\n",
      "c1t\n",
      "c2t\n",
      "d0t\n"
     ]
    }
   ],
   "source": [
    "from collections import deque\n",
    "\n",
    "def bfs(root):\n",
    "    queue = deque()\n",
    "    queue.append(root)\n",
    "    while queue:\n",
    "        curr_child = queue.popleft()\n",
    "        print(curr_child)\n",
    "        queue.extend(curr_child.get_children())    \n",
    "bfs(x)\n"
   ]
  },
  {
   "cell_type": "code",
   "execution_count": 12,
   "metadata": {},
   "outputs": [
    {
     "name": "stdout",
     "output_type": "stream",
     "text": [
      "a0t\n",
      "Current quee deque([b0t, b1t, b2t])\n",
      "b0t\n",
      "Current quee deque([b1t, b2t, c0t, c1t])\n",
      "b1t\n",
      "Current quee deque([b2t, c0t, c1t, c2t])\n",
      "b2t\n",
      "Current quee deque([c0t, c1t, c2t])\n",
      "c0t\n",
      "Current quee deque([c1t, c2t, d0t])\n",
      "c1t\n",
      "Current quee deque([c2t, d0t])\n",
      "c2t\n",
      "Current quee deque([d0t])\n",
      "d0t\n",
      "Current quee deque([])\n"
     ]
    }
   ],
   "source": [
    "# bfs recursive\n",
    "# bfs should use a queue, while recursion is naturally a stack\n",
    "# will use an external queue to solve the problem\n",
    "# Clearly, the recurvive call is doing nothing here, can be replaced by while loop easily\n",
    "from collections import deque\n",
    "queue = deque()\n",
    "queue.append(x)\n",
    "\n",
    "def bfs_re(queue):\n",
    "    if not queue:\n",
    "        return\n",
    "    curr_child = queue.popleft()\n",
    "    print(curr_child)\n",
    "    queue.extend(curr_child.get_children())\n",
    "    bfs_re(queue)\n",
    "    \n",
    "bfs_re(queue)"
   ]
  },
  {
   "cell_type": "code",
   "execution_count": null,
   "metadata": {},
   "outputs": [],
   "source": []
  },
  {
   "cell_type": "code",
   "execution_count": 4,
   "metadata": {},
   "outputs": [
    {
     "name": "stdout",
     "output_type": "stream",
     "text": [
      "a0t\n",
      "b0t\n",
      "c0t\n",
      "d0t\n",
      "c1t\n",
      "b1t\n",
      "b2t\n"
     ]
    }
   ],
   "source": [
    "# dfs pre-orde, non-recursive\n",
    "def dfs(root):\n",
    "    stack = []\n",
    "    stack.append(root)\n",
    "    while stack:\n",
    "        curr_child = stack.pop()\n",
    "        print(curr_child)\n",
    "        stack.extend(curr_child.get_children()[::-1])\n",
    "dfs(x)        "
   ]
  },
  {
   "cell_type": "code",
   "execution_count": 5,
   "metadata": {},
   "outputs": [
    {
     "name": "stdout",
     "output_type": "stream",
     "text": [
      "a0t\n",
      "b0t\n",
      "c0t\n",
      "d0t\n",
      "c1t\n",
      "b1t\n",
      "b2t\n"
     ]
    }
   ],
   "source": [
    "# dfs recursive\n",
    "def dfs_preorder(root):\n",
    "    if not root:\n",
    "        return\n",
    "    print(root)\n",
    "    for child in root.get_children():\n",
    "        dfs_preorder(child)\n",
    "        \n",
    "dfs_preorder(x)"
   ]
  },
  {
   "cell_type": "code",
   "execution_count": 6,
   "metadata": {},
   "outputs": [
    {
     "name": "stdout",
     "output_type": "stream",
     "text": [
      "d0t\n",
      "c0t\n",
      "c1t\n",
      "b0t\n",
      "b1t\n",
      "b2t\n",
      "a0t\n"
     ]
    }
   ],
   "source": [
    "def dfs_postorder(root):\n",
    "    if not root:\n",
    "        return\n",
    "    for child in root.get_children():\n",
    "        dfs_postorder(child)\n",
    "    print(root)\n",
    "dfs_postorder(x)"
   ]
  },
  {
   "cell_type": "markdown",
   "metadata": {},
   "source": [
    "# Binary tree contains left and right subtrees"
   ]
  },
  {
   "cell_type": "code",
   "execution_count": 53,
   "metadata": {},
   "outputs": [],
   "source": [
    "class Node:\n",
    " \n",
    "    # Constructor to create a new node\n",
    "    def __init__(self, data):\n",
    "        self.data = data\n",
    "        self.left = None\n",
    "        self.right = None\n",
    "    def __repr__(self):\n",
    "        return self.data\n",
    "\n",
    "\n",
    "def make_test_bitree():\n",
    "    a0 = Node(\"a0\")\n",
    "    b0 = Node(\"b0\")\n",
    "    b1 = Node(\"b1\")\n",
    "    b2 = Node(\"b2\")\n",
    "    c1 = Node(\"c1\")\n",
    "    c2 = Node(\"c2\")\n",
    "    d2 = Node(\"d2\")\n",
    "    d3 = Node(\"d3\")\n",
    "    \n",
    "    a0.left = b0\n",
    "    a0.right = b1\n",
    "    b0.right = c1\n",
    "    b1.left = c2\n",
    "    c1.left = d2\n",
    "    c1.right = d3\n",
    "    return a0\n",
    "\n",
    "bt = make_test_bitree()"
   ]
  },
  {
   "cell_type": "code",
   "execution_count": 54,
   "metadata": {},
   "outputs": [
    {
     "name": "stdout",
     "output_type": "stream",
     "text": [
      "a0\n",
      "b0\n",
      "b1\n",
      "c1\n",
      "c2\n",
      "d2\n",
      "d3\n"
     ]
    }
   ],
   "source": [
    "from collections import deque\n",
    "def bfs(root):\n",
    "    queue = deque()\n",
    "    queue.append(root)\n",
    "    while queue:\n",
    "        curr_node = queue.popleft()\n",
    "        print(curr_node)\n",
    "        if curr_node.left:\n",
    "            queue.append(curr_node.left)\n",
    "        if curr_node.right:\n",
    "            queue.append(curr_node.right)\n",
    "bfs(bt)"
   ]
  },
  {
   "cell_type": "code",
   "execution_count": 59,
   "metadata": {},
   "outputs": [
    {
     "name": "stdout",
     "output_type": "stream",
     "text": [
      "a0\n",
      "b0\n",
      "c1\n",
      "d2\n",
      "d3\n",
      "b1\n",
      "c2\n",
      "\n",
      "b0\n",
      "d2\n",
      "c1\n",
      "d3\n",
      "a0\n",
      "c2\n",
      "b1\n",
      "\n",
      "d2\n",
      "d3\n",
      "c1\n",
      "b0\n",
      "c2\n",
      "b1\n",
      "a0\n"
     ]
    }
   ],
   "source": [
    "def bfs_preorder(root):\n",
    "    if not root:\n",
    "        return\n",
    "    print(root)\n",
    "    bfs_preorder(root.left)\n",
    "    bfs_preorder(root.right)\n",
    "    \n",
    "def bfs_inorder(root):\n",
    "    if not root:\n",
    "        return\n",
    "    bfs_inorder(root.left)\n",
    "    print(root)\n",
    "    bfs_inorder(root.right)\n",
    "\n",
    "def bfs_postorder(root):\n",
    "    if not root:\n",
    "        return\n",
    "    bfs_postorder(root.left)\n",
    "    bfs_postorder(root.right)\n",
    "    print(root)\n",
    "bfs_preorder(bt)\n",
    "print()\n",
    "bfs_inorder(bt)\n",
    "print()\n",
    "bfs_postorder(bt)"
   ]
  },
  {
   "cell_type": "code",
   "execution_count": 65,
   "metadata": {},
   "outputs": [
    {
     "name": "stdout",
     "output_type": "stream",
     "text": [
      "a0\n",
      "b0\n",
      "c1\n",
      "d2\n"
     ]
    }
   ],
   "source": [
    "# left view or right view with bfs\n",
    "# tricks: track queue length, then a second loop to go through the length\n",
    "# Which is equivalent to go through layer by layer\n",
    "# for right view, print within_layer == num_of_nodes -1\n",
    "from collections import deque\n",
    "def left_view(root):\n",
    "    queue = deque()\n",
    "    queue.append(root)\n",
    "    while queue:\n",
    "        num_of_nodes = len(queue)\n",
    "        within_layer = 0\n",
    "        while within_layer < num_of_nodes:\n",
    "            curr_node = queue.popleft()\n",
    "            if within_layer == 0:\n",
    "                print(curr_node)\n",
    "            within_layer += 1\n",
    "            if curr_node.left:\n",
    "                queue.append(curr_node.left)\n",
    "            if curr_node.right:\n",
    "                queue.append(curr_node.right)\n",
    "\n",
    "left_view(bt)\n",
    "    "
   ]
  },
  {
   "cell_type": "code",
   "execution_count": 66,
   "metadata": {},
   "outputs": [],
   "source": [
    "# left view or right view with dfs preorder recursive\n",
    "# need to maintain level, and last level\n",
    "# last level should pass address so that to be dynamically updated during recursion\n",
    "# recurive: left_view(child, level + 1, last_level)\n",
    "# Omit the details"
   ]
  },
  {
   "cell_type": "code",
   "execution_count": null,
   "metadata": {},
   "outputs": [],
   "source": [
    "# top view"
   ]
  }
 ],
 "metadata": {
  "kernelspec": {
   "display_name": "Python 3",
   "language": "python",
   "name": "python3"
  },
  "language_info": {
   "codemirror_mode": {
    "name": "ipython",
    "version": 3
   },
   "file_extension": ".py",
   "mimetype": "text/x-python",
   "name": "python",
   "nbconvert_exporter": "python",
   "pygments_lexer": "ipython3",
   "version": "3.6.5"
  }
 },
 "nbformat": 4,
 "nbformat_minor": 2
}
