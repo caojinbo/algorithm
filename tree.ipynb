{
 "cells": [
  {
   "cell_type": "markdown",
   "metadata": {},
   "source": [
    "The tree must be an object which contains\n",
    "1) property: id and children\n",
    "2) methods: add child, get children"
   ]
  },
  {
   "cell_type": "code",
   "execution_count": 4,
   "metadata": {},
   "outputs": [],
   "source": [
    "# A tree node with children in list\n",
    "class Node():\n",
    "    def __init__(self, id):\n",
    "        self.id = id\n",
    "        self.children = []\n",
    "    def add_child(self, node):\n",
    "        self.children.append(node)\n",
    "    def __repr__(self):\n",
    "        return self.id\n",
    "    def get_children(self):\n",
    "        return self.children"
   ]
  },
  {
   "cell_type": "code",
   "execution_count": 5,
   "metadata": {},
   "outputs": [],
   "source": [
    "def make_test_tree():\n",
    "    a0 = Node(\"a0t\")\n",
    "    b0 = Node(\"b0t\")\n",
    "    b1 = Node(\"b1t\")\n",
    "    b2 = Node(\"b2t\")\n",
    "    c0 = Node(\"c0t\")\n",
    "    c1 = Node(\"c1t\")\n",
    "    c2 = Node(\"c2t\")\n",
    "    d0 = Node(\"d0t\")\n",
    "    \n",
    "    a0.add_child(b0)\n",
    "    a0.add_child(b1)\n",
    "    a0.add_child(b2)\n",
    "    b0.add_child(c0)\n",
    "    b0.add_child(c1)\n",
    "    b1.add_child(c2)\n",
    "    c0.add_child(d0)\n",
    "    \n",
    "    return a0\n",
    "x = make_test_tree()"
   ]
  },
  {
   "cell_type": "code",
   "execution_count": 6,
   "metadata": {},
   "outputs": [
    {
     "data": {
      "text/plain": [
       "a0t"
      ]
     },
     "execution_count": 6,
     "metadata": {},
     "output_type": "execute_result"
    }
   ],
   "source": [
    "x"
   ]
  },
  {
   "cell_type": "code",
   "execution_count": 7,
   "metadata": {},
   "outputs": [
    {
     "name": "stdout",
     "output_type": "stream",
     "text": [
      "a0t\n",
      "b0t\n",
      "b1t\n",
      "b2t\n",
      "c0t\n",
      "c1t\n",
      "c2t\n",
      "d0t\n"
     ]
    }
   ],
   "source": [
    "from collections import deque\n",
    "\n",
    "def bfs(root):\n",
    "    queue = deque()\n",
    "    queue.append(root)\n",
    "    while queue:\n",
    "        curr_child = queue.popleft()\n",
    "        print(curr_child)\n",
    "        queue.extend(curr_child.get_children())    \n",
    "bfs(x)\n"
   ]
  },
  {
   "cell_type": "code",
   "execution_count": 8,
   "metadata": {},
   "outputs": [
    {
     "name": "stdout",
     "output_type": "stream",
     "text": [
      "a0t\n",
      "b0t\n",
      "b1t\n",
      "b2t\n",
      "c0t\n",
      "c1t\n",
      "c2t\n",
      "d0t\n"
     ]
    }
   ],
   "source": [
    "# bfs recursive\n",
    "# bfs should use a queue, while recursion is naturally a stack\n",
    "# will use an external queue to solve the problem\n",
    "# Clearly, the recurvive call is doing nothing here, can be replaced by while loop easily\n",
    "from collections import deque\n",
    "queue = deque()\n",
    "queue.append(x)\n",
    "\n",
    "def bfs_re(queue):\n",
    "    if not queue:\n",
    "        return\n",
    "    curr_child = queue.popleft()\n",
    "    print(curr_child)\n",
    "    queue.extend(curr_child.get_children())\n",
    "    bfs_re(queue)\n",
    "    \n",
    "bfs_re(queue)"
   ]
  },
  {
   "cell_type": "code",
   "execution_count": null,
   "metadata": {},
   "outputs": [],
   "source": []
  },
  {
   "cell_type": "code",
   "execution_count": 9,
   "metadata": {},
   "outputs": [
    {
     "name": "stdout",
     "output_type": "stream",
     "text": [
      "a0t\n",
      "b0t\n",
      "c0t\n",
      "d0t\n",
      "c1t\n",
      "b1t\n",
      "c2t\n",
      "b2t\n"
     ]
    }
   ],
   "source": [
    "# dfs pre-orde, non-recursive\n",
    "def dfs(root):\n",
    "    stack = []\n",
    "    stack.append(root)\n",
    "    while stack:\n",
    "        curr_child = stack.pop()\n",
    "        print(curr_child)\n",
    "        stack.extend(curr_child.get_children()[::-1])\n",
    "dfs(x)        "
   ]
  },
  {
   "cell_type": "code",
   "execution_count": 10,
   "metadata": {},
   "outputs": [
    {
     "name": "stdout",
     "output_type": "stream",
     "text": [
      "a0t\n",
      "b0t\n",
      "c0t\n",
      "d0t\n",
      "c1t\n",
      "b1t\n",
      "c2t\n",
      "b2t\n"
     ]
    }
   ],
   "source": [
    "# dfs recursive\n",
    "def dfs_preorder(root):\n",
    "    if not root:\n",
    "        return\n",
    "    print(root)\n",
    "    for child in root.get_children():\n",
    "        dfs_preorder(child)\n",
    "        \n",
    "dfs_preorder(x)"
   ]
  },
  {
   "cell_type": "code",
   "execution_count": 11,
   "metadata": {},
   "outputs": [
    {
     "name": "stdout",
     "output_type": "stream",
     "text": [
      "d0t\n",
      "c0t\n",
      "c1t\n",
      "b0t\n",
      "c2t\n",
      "b1t\n",
      "b2t\n",
      "a0t\n"
     ]
    }
   ],
   "source": [
    "def dfs_postorder(root):\n",
    "    if not root:\n",
    "        return\n",
    "    for child in root.get_children():\n",
    "        dfs_postorder(child)\n",
    "    print(root)\n",
    "dfs_postorder(x)"
   ]
  },
  {
   "cell_type": "markdown",
   "metadata": {},
   "source": [
    "# Binary tree contains left and right subtrees"
   ]
  },
  {
   "cell_type": "code",
   "execution_count": 115,
   "metadata": {},
   "outputs": [],
   "source": [
    "class Node:\n",
    " \n",
    "    # Constructor to create a new node\n",
    "    def __init__(self, data):\n",
    "        self.data = data\n",
    "        self.left = None\n",
    "        self.right = None\n",
    "    def __repr__(self):\n",
    "        return str(self.data)\n",
    "\n",
    "\n",
    "def make_test_bitree():\n",
    "    a0 = Node(\"a0\")\n",
    "    b0 = Node(\"b0\")\n",
    "    b1 = Node(\"b1\")\n",
    "    b2 = Node(\"b2\")\n",
    "    c1 = Node(\"c1\")\n",
    "    c2 = Node(\"c2\")\n",
    "    d2 = Node(\"d2\")\n",
    "    d3 = Node(\"d3\")\n",
    "    x = Node(\"x\")\n",
    "    \n",
    "    a0.left = b0\n",
    "    a0.right = b1\n",
    "    b0.right = c1\n",
    "    b0.left = x\n",
    "    b1.left = c2\n",
    "    c1.left = d2\n",
    "    c1.right = d3\n",
    "    return a0\n",
    "\n",
    "def second_tree():\n",
    "    a0 = Node(\"a0\")\n",
    "    b0 = Node(\"b0\")\n",
    "    b1 = Node(\"b1\")\n",
    "    b2 = Node(\"b2\")\n",
    "    c1 = Node(\"c1\")\n",
    "    c2 = Node(\"c2\")\n",
    "    d2 = Node(\"d2\")\n",
    "    d3 = Node(\"d3\")\n",
    "    x = Node(\"x\")\n",
    "    \n",
    "    a0.left = b0\n",
    "    a0.right = b1\n",
    "    b0.right = c1\n",
    "    b0.left = x\n",
    "    b1.left = c2\n",
    "    c1.left = d2\n",
    "    c1.right = d3\n",
    "    return a0\n",
    "\n",
    "def make_num_tree():\n",
    "    a0 = Node(10)\n",
    "    b0 = Node(5)\n",
    "    b1 = Node(20)\n",
    "    c1 = Node(8)\n",
    "    c2 = Node(12)\n",
    "    d2 = Node(7)\n",
    "    d3 = Node(9)\n",
    "    x = Node(3)\n",
    "    \n",
    "    a0.left = b0\n",
    "    a0.right = b1\n",
    "    b0.right = c1\n",
    "    b0.left = x\n",
    "    #b1.left = c2\n",
    "    c1.left = d2\n",
    "    c1.right = d3\n",
    "    return a0\n",
    "#        10\n",
    "#      5    20\n",
    "#    3  8 \n",
    "#      7 9\n",
    "bt = make_test_bitree()\n",
    "bt2 = second_tree()\n",
    "nbt = make_num_tree()"
   ]
  },
  {
   "cell_type": "code",
   "execution_count": 2,
   "metadata": {},
   "outputs": [
    {
     "name": "stdout",
     "output_type": "stream",
     "text": [
      "a0\n",
      "b0\n",
      "b1\n",
      "x\n",
      "c1\n",
      "c2\n",
      "d2\n",
      "d3\n"
     ]
    }
   ],
   "source": [
    "from collections import deque\n",
    "def bfs(root):\n",
    "    queue = deque()\n",
    "    queue.append(root)\n",
    "    while queue:\n",
    "        curr_node = queue.popleft()\n",
    "        print(curr_node)\n",
    "        if curr_node.left:\n",
    "            queue.append(curr_node.left)\n",
    "        if curr_node.right:\n",
    "            queue.append(curr_node.right)\n",
    "bfs(bt)"
   ]
  },
  {
   "cell_type": "code",
   "execution_count": 17,
   "metadata": {},
   "outputs": [],
   "source": [
    "def dfs_stack(root):\n",
    "    if not root:\n",
    "        return\n",
    "    stack = [root]\n",
    "    while stack:\n",
    "        curr_child = stack.pop()\n",
    "        print(curr_child)\n",
    "        if curr_child.right:\n",
    "            stack.append(curr_child.right)\n",
    "        if curr_child.left:\n",
    "            stack.append(curr_child.left)\n",
    "    return stack"
   ]
  },
  {
   "cell_type": "code",
   "execution_count": 18,
   "metadata": {},
   "outputs": [
    {
     "name": "stdout",
     "output_type": "stream",
     "text": [
      "a0\n",
      "b0\n",
      "c1\n",
      "d2\n",
      "d3\n",
      "b1\n",
      "c2\n"
     ]
    },
    {
     "data": {
      "text/plain": [
       "[]"
      ]
     },
     "execution_count": 18,
     "metadata": {},
     "output_type": "execute_result"
    }
   ],
   "source": [
    "dfs_stack(bt)"
   ]
  },
  {
   "cell_type": "code",
   "execution_count": null,
   "metadata": {},
   "outputs": [],
   "source": []
  },
  {
   "cell_type": "code",
   "execution_count": 3,
   "metadata": {},
   "outputs": [
    {
     "name": "stdout",
     "output_type": "stream",
     "text": [
      "a0\n",
      "b0\n",
      "x\n",
      "c1\n",
      "d2\n",
      "d3\n",
      "b1\n",
      "c2\n",
      "\n",
      "x\n",
      "b0\n",
      "d2\n",
      "c1\n",
      "d3\n",
      "a0\n",
      "c2\n",
      "b1\n",
      "\n",
      "x\n",
      "d2\n",
      "d3\n",
      "c1\n",
      "b0\n",
      "c2\n",
      "b1\n",
      "a0\n"
     ]
    }
   ],
   "source": [
    "\n",
    "def dfs_preorder(root):\n",
    "\n",
    "    if not root:\n",
    "        return\n",
    "    print(root)\n",
    "    dfs_preorder(root.left)\n",
    "    dfs_preorder(root.right)\n",
    "    \n",
    "def dfs_inorder(root):\n",
    "    if not root:\n",
    "        return\n",
    "    dfs_inorder(root .left)\n",
    "    print(root)\n",
    "    dfs_inorder(root.right)\n",
    "\n",
    "def dfs_postorder(root):\n",
    "    if not root:\n",
    "        return\n",
    "    dfs_postorder(root.left)\n",
    "    dfs_postorder(root.right)\n",
    "    print(root)\n",
    "dfs_preorder(bt)\n",
    "print()\n",
    "dfs_inorder(bt)\n",
    "print()\n",
    "dfs_postorder(bt)"
   ]
  },
  {
   "cell_type": "code",
   "execution_count": 4,
   "metadata": {},
   "outputs": [
    {
     "name": "stdout",
     "output_type": "stream",
     "text": [
      "a0\n",
      "b0\n",
      "x\n",
      "d2\n"
     ]
    }
   ],
   "source": [
    "# left view bfs\n",
    "# tricks: track queue length, then a second loop to go through the length\n",
    "# Which is equivalent to go through layer by layer\n",
    "# for right view, print within_layer == num_of_nodes -1\n",
    "from collections import deque\n",
    "def left_view(root):\n",
    "    queue = deque()\n",
    "    queue.append(root)\n",
    "    while queue:\n",
    "        num_of_nodes = len(queue)\n",
    "        within_layer = 0\n",
    "        while within_layer < num_of_nodes:\n",
    "            curr_node = queue.popleft()\n",
    "            if within_layer == 0:\n",
    "                print(curr_node)\n",
    "            within_layer += 1\n",
    "            if curr_node.left:\n",
    "                queue.append(curr_node.left)\n",
    "            if curr_node.right:\n",
    "                queue.append(curr_node.right)\n",
    "\n",
    "left_view(bt)\n",
    "    "
   ]
  },
  {
   "cell_type": "code",
   "execution_count": 7,
   "metadata": {},
   "outputs": [
    {
     "name": "stdout",
     "output_type": "stream",
     "text": [
      "a0\n",
      "b0\n",
      "x\n",
      "d2\n"
     ]
    }
   ],
   "source": [
    "# Tree left view with recursive method\n",
    "# It is a preorder traversal, but in each recursion (level), only print the first one that showed up\n",
    "# The global variabile is to make sure, even a different recursion come to the same level, will ignore\n",
    "# Tricks: need a global value to track within_layer\n",
    "\n",
    "within_layer = 0\n",
    "def left_view_rec(root, level):\n",
    "    global within_layer\n",
    "    if root is None:\n",
    "        return\n",
    "    if within_layer < level:\n",
    "        print(root)\n",
    "        within_layer = level\n",
    "    left_view_rec(root.left, level + 1)\n",
    "    left_view_rec(root.right, level + 1)\n",
    "    \n",
    "left_view_rec(bt, 1)\n",
    "\n",
    "#Question: can we modify it for right view? We need to know how many nodes per level\n",
    "# Probably need a dict to contain nodes per level, then spit out the last one? but that's bsf\n"
   ]
  },
  {
   "cell_type": "code",
   "execution_count": null,
   "metadata": {},
   "outputs": [],
   "source": []
  },
  {
   "cell_type": "code",
   "execution_count": 8,
   "metadata": {},
   "outputs": [
    {
     "name": "stdout",
     "output_type": "stream",
     "text": [
      "a0\n",
      "b1\n",
      "c2\n",
      "d3\n"
     ]
    }
   ],
   "source": [
    "# right view with bfs\n",
    "# tricks: track queue length, then a second loop to go through the length\n",
    "# Which is equivalent to go through layer by layer\n",
    "\n",
    "from collections import deque\n",
    "def right_view(root):\n",
    "    queue = deque()\n",
    "    queue.append(root)\n",
    "    while queue:\n",
    "        num_of_nodes = len(queue)\n",
    "        within_layer = 0\n",
    "        while within_layer < num_of_nodes:\n",
    "            curr_node = queue.popleft()\n",
    "            if within_layer == num_of_nodes - 1:\n",
    "                print(curr_node)\n",
    "            within_layer += 1\n",
    "            if curr_node.left:\n",
    "                queue.append(curr_node.left)\n",
    "            if curr_node.right:\n",
    "                queue.append(curr_node.right)\n",
    "\n",
    "right_view(bt)\n"
   ]
  },
  {
   "cell_type": "code",
   "execution_count": 35,
   "metadata": {},
   "outputs": [],
   "source": [
    "a.append('b')"
   ]
  },
  {
   "cell_type": "code",
   "execution_count": 36,
   "metadata": {},
   "outputs": [
    {
     "data": {
      "text/plain": [
       "deque(['a', 'b'])"
      ]
     },
     "execution_count": 36,
     "metadata": {},
     "output_type": "execute_result"
    }
   ],
   "source": [
    "a"
   ]
  },
  {
   "cell_type": "code",
   "execution_count": 19,
   "metadata": {},
   "outputs": [
    {
     "name": "stdout",
     "output_type": "stream",
     "text": [
      "[a0, b0, x, c1, d2, d3, b1, c2]\n"
     ]
    },
    {
     "data": {
      "text/plain": [
       "[a0, b0, x, c1, d2, d3, b1, c2]"
      ]
     },
     "execution_count": 19,
     "metadata": {},
     "output_type": "execute_result"
    }
   ],
   "source": [
    "# test recursive and store numbers\n",
    "# option 1, use global list\n",
    "\n",
    "inter = []\n",
    "\n",
    "def dfs_preorder_store(root):\n",
    "    global inter\n",
    "    if not root:\n",
    "        return\n",
    "    inter.append(root)\n",
    "    dfs_preorder_store(root.left)\n",
    "    dfs_preorder_store(root.right)\n",
    "dfs_preorder_store(bt)\n",
    "print(inter)\n",
    "\n",
    "# option 2, list as parameters\n",
    "def dfs_preorder_store(root, output=None):\n",
    "    if output is None:\n",
    "        output = []\n",
    "    if not root:\n",
    "        return\n",
    "    output.append(root)\n",
    "    dfs_preorder_store(root.left, output)\n",
    "    dfs_preorder_store(root.right, output)\n",
    "    return output\n",
    "dfs_preorder_store(bt, [])\n"
   ]
  },
  {
   "cell_type": "code",
   "execution_count": 22,
   "metadata": {},
   "outputs": [
    {
     "data": {
      "text/plain": [
       "{-2: x, -1: b0, 0: a0, 1: b1}"
      ]
     },
     "execution_count": 22,
     "metadata": {},
     "output_type": "execute_result"
    }
   ],
   "source": [
    "# Top view with queue\n",
    "# Tricks: pack node and level together in the queue\n",
    "# for bottom view, continue add to dict to overwrite top levels\n",
    "from collections import deque\n",
    "def top_view_queue(root):\n",
    "    if root is None:\n",
    "        return\n",
    "    queue = deque()\n",
    "    node_dict = {}\n",
    "    queue.append((root, 0))\n",
    "    while queue:\n",
    "        # the level is vertical level\n",
    "        node, level = queue.popleft()\n",
    "        if level not in node_dict:\n",
    "            node_dict[level] = node\n",
    "        if node.left:\n",
    "            queue.append((node.left, level - 1))\n",
    "        if node.right:\n",
    "            queue.append((node.right, level + 1))\n",
    "    return node_dict        \n",
    "top_view_queue(bt)"
   ]
  },
  {
   "cell_type": "code",
   "execution_count": 28,
   "metadata": {},
   "outputs": [
    {
     "data": {
      "text/plain": [
       "{-1: [b0, d2], 0: [a0, c1, c2], 1: [b1, d3]}"
      ]
     },
     "execution_count": 28,
     "metadata": {},
     "output_type": "execute_result"
    }
   ],
   "source": [
    "# left traversal of tree\n",
    "# bfs, track vertical level\n",
    "# one traversal to store everything in a dict\n",
    "# Based on the dict, can do left, right traversal from top down or bottom up\n",
    "from collections import deque\n",
    "def left_traversal(root):\n",
    "    if root is None:\n",
    "        return\n",
    "    queue = deque()\n",
    "    node_dict = {}\n",
    "    queue.append((root, 0))\n",
    "    while queue:\n",
    "        node, level = queue.popleft()\n",
    "        if level not in node_dict:\n",
    "            node_dict[level] = [node]\n",
    "        else:\n",
    "            node_dict[level].append(node)\n",
    "        if node.left:\n",
    "            queue.append((node.left, level - 1))\n",
    "        if node.right:\n",
    "            queue.append((node.right, level + 1))\n",
    "\n",
    "    return node_dict\n",
    "\n",
    "left_traversal(bt)"
   ]
  },
  {
   "cell_type": "code",
   "execution_count": 30,
   "metadata": {},
   "outputs": [
    {
     "data": {
      "text/plain": [
       "True"
      ]
     },
     "execution_count": 30,
     "metadata": {},
     "output_type": "execute_result"
    }
   ],
   "source": [
    "# serialize deserialize a binary tree (simple way)\n",
    "# return a string or list will be fine\n",
    "# BFS to serialize it, if node is none, store MARKER, and do not push to queue\n",
    "from collections import deque\n",
    "MARKER = \"*\"\n",
    "def serialize_bfs(root):\n",
    "    res = []\n",
    "    queue = deque()\n",
    "    queue.append(root)\n",
    "    while queue:\n",
    "        node = queue.popleft()\n",
    "        if node is None:\n",
    "            res.append(MARKER)\n",
    "            continue\n",
    "        else:\n",
    "            res.append(node.data)\n",
    "        queue.append(node.left)\n",
    "        queue.append(node.right)\n",
    "    return res\n",
    "\n",
    "serialize_bfs(bt)\n",
    "\n",
    "# deserialize\n",
    "# First convert all to node/None, for easy connection\n",
    "# Scan the node list, and connect pointers, use while True since it is 2n+1, 2n+2 problem\n",
    "# Just make sure check base condition and jump out of the loop\n",
    "def deserialize_bfs(arr):\n",
    "    nodes = []\n",
    "    for label in arr:\n",
    "        if label == MARKER:\n",
    "            nodes.append(None)\n",
    "        else:\n",
    "            nodes.append(Node(label))\n",
    "\n",
    "    length = len(arr)\n",
    "    idx = 0\n",
    "    root = nodes[0]\n",
    "\n",
    "    while True:\n",
    "        if idx >= length:\n",
    "            break\n",
    "        if nodes[idx] is None:\n",
    "            idx += 1\n",
    "            continue\n",
    "        if 2 * idx + 1 < length:\n",
    "            nodes[idx].left = nodes[2 * idx + 1]\n",
    "        if 2* idx + 2 < length:\n",
    "            nodes[idx].right = nodes[2 * idx + 2]\n",
    "        idx += 1\n",
    "    return root\n",
    "\n",
    "serialize_bfs(deserialize_bfs(serialize_bfs(bt))) == serialize_bfs(bt)\n",
    "            "
   ]
  },
  {
   "cell_type": "code",
   "execution_count": 31,
   "metadata": {},
   "outputs": [
    {
     "name": "stdout",
     "output_type": "stream",
     "text": [
      "deque(['a0', 'b0', 'x', '*', '*', 'c1', 'd2', '*', '*', 'd3', '*', '*', 'b1', 'c2', '*', '*', '*'])\n"
     ]
    },
    {
     "data": {
      "text/plain": [
       "True"
      ]
     },
     "execution_count": 31,
     "metadata": {},
     "output_type": "execute_result"
    }
   ],
   "source": [
    "# Simple and easy for serialize/deserialize\n",
    "# Preorder with recursive\n",
    "# Tricks: global values so that they can manipulate\n",
    "# deserialize will pop a queue, recursively build root, root.left=build(), root.right=build()\n",
    "\n",
    "def serialize(root):\n",
    "    val = []\n",
    "    def preorder(root):\n",
    "        if not root:\n",
    "            val.append(MARKER)  \n",
    "        else:\n",
    "            val.append(root.data)\n",
    "            preorder(root.left)\n",
    "            preorder(root.right)\n",
    "    preorder(root)\n",
    "    return val\n",
    "\n",
    "def deserialize(arr):\n",
    "    # for simplification, arr is an array\n",
    "    queue = deque(arr)\n",
    "    print(queue)\n",
    "    def build():\n",
    "        val = queue.popleft()\n",
    "        if val == MARKER:\n",
    "            return None\n",
    "        root = Node(val)\n",
    "        root.left = build()\n",
    "        root.right = build()\n",
    "        return root\n",
    "    return build()\n",
    "\n",
    "\n",
    "serialize(deserialize(serialize(bt))) == serialize(bt)\n",
    "\n",
    "    "
   ]
  },
  {
   "cell_type": "code",
   "execution_count": 36,
   "metadata": {},
   "outputs": [
    {
     "data": {
      "text/plain": [
       "[3, 2, 1]"
      ]
     },
     "execution_count": 36,
     "metadata": {},
     "output_type": "execute_result"
    }
   ],
   "source": [
    "a = [1, 2, 3]\n",
    "b = []\n",
    "b.append(a.pop())\n",
    "b.append(a.pop())\n",
    "b.append(a.pop())\n",
    "b"
   ]
  },
  {
   "cell_type": "code",
   "execution_count": 35,
   "metadata": {},
   "outputs": [
    {
     "data": {
      "text/plain": [
       "[3, 2, 1]"
      ]
     },
     "execution_count": 35,
     "metadata": {},
     "output_type": "execute_result"
    }
   ],
   "source": [
    "a"
   ]
  },
  {
   "cell_type": "code",
   "execution_count": null,
   "metadata": {},
   "outputs": [],
   "source": []
  },
  {
   "cell_type": "code",
   "execution_count": 37,
   "metadata": {},
   "outputs": [],
   "source": [
    "#STOP -- check next cell for easy understanding\n",
    "# Construct tree from preorder, inorder, or postorder\n",
    "# Note, inorder is a must to make the sure the tree unique. Otherwise the tree is not unique\n",
    "# The following are thoughts only\n",
    "\n",
    "# NOTE 1: to prevent slicing resulted copies, we need to use pointer\n",
    "# NOTE 2: the fistt of preorder, or the last of postorder is the root, then use root to search inorder\n",
    "# to find left and right tree, then recursive calls\n",
    "# NOTE 3: if only preorder and postorder, the second to last is right tree, etc\n",
    "\n",
    "def build_tree_pre_in(preorder, pl, pr, inorder, il, ir):\n",
    "    if pl > pr:\n",
    "        return None\n",
    "    root = Note(preorder[pl])\n",
    "    # base case: if only one node left\n",
    "    if pl == pr:\n",
    "        return root\n",
    "    ix = inorder.index(preorder[pl])\n",
    "    left_len = ix - il\n",
    "    root.left = build_tree_pre_in(preorder, pl + 1, pl + left_len, inorder, il, ix -1)\n",
    "    root.right = build_tree_pre_in(preorder, pl + left_len + 1, pr, inorder, ix + 1, ir)\n",
    "       \n",
    "    # After finish all the recursion, return the final root\n",
    "    \n",
    "    return root"
   ]
  },
  {
   "cell_type": "code",
   "execution_count": 69,
   "metadata": {},
   "outputs": [],
   "source": [
    "# We have inorder and preorder\n",
    "# base case: inordeer is empty\n",
    "# recursive case: inorder will split to left & right, based on the first node in preorder\n",
    "# when regroup left and right, the size of sub-preorder and sub-inorder should be the same\n",
    "# in recursive, inorder will remove element[idx], preorder will remove element[0]\n",
    "\n",
    "#Note: an inorder is a must to build general BST. for postorder, switch postorder[-1], and slice to [-1]\n",
    "def build_tree(inorder, preorder):\n",
    "    if not inorder:\n",
    "        return None\n",
    "    else:\n",
    "        idx = inorder.index(preorder[0])\n",
    "        root = Node(preorder[0])\n",
    "        root.left = build_tree(inorder[:idx], preorder[1:idx + 1])\n",
    "        root.right = build_tree(inorder[idx + 1:], preorder[idx + 1:])\n",
    "        return root\n",
    "a = Node('a')\n",
    "b = Node('b')\n",
    "c = Node('c')\n",
    "a.left = b\n",
    "a.right = c\n",
    "x= build_tree('ab', 'ab')"
   ]
  },
  {
   "cell_type": "code",
   "execution_count": 70,
   "metadata": {},
   "outputs": [],
   "source": [
    "# For preorder and postorder, we can only construct a full tree\n",
    "# Tricks, the first one in preorder is root, the second is root of left kids, search that number in postorder\n",
    "# which will define the whole left tree"
   ]
  },
  {
   "cell_type": "code",
   "execution_count": 2,
   "metadata": {},
   "outputs": [],
   "source": [
    "# Tree pruning sodo code\n",
    "# need postorder dfs because we have to treat leaf first, then check itself value\n",
    "\n",
    "def prun(root):\n",
    "    if not root:\n",
    "        return None\n",
    "    root.left = prun(root.left)\n",
    "    root.right = prun(root.right)\n",
    "    if not root.left and not root.right and root.data == 0:\n",
    "        return None\n",
    "    return root"
   ]
  },
  {
   "cell_type": "code",
   "execution_count": 8,
   "metadata": {},
   "outputs": [
    {
     "data": {
      "text/plain": [
       "4"
      ]
     },
     "execution_count": 8,
     "metadata": {},
     "output_type": "execute_result"
    }
   ],
   "source": [
    "# Max depth of binary tree -- first thought\n",
    "# We are talking about vertical depth, which could be tracked\n",
    "# through recursion level\n",
    "d = 0\n",
    "def max_depth(root, depth):\n",
    "    global d\n",
    "    if root is None:\n",
    "        return\n",
    "    d = max(d, depth)\n",
    "    max_depth(root.left, depth +1)\n",
    "    max_depth(root.right, depth + 1)\n",
    "    return d\n",
    "max_depth(bt, 1)"
   ]
  },
  {
   "cell_type": "code",
   "execution_count": 112,
   "metadata": {},
   "outputs": [
    {
     "data": {
      "text/plain": [
       "4"
      ]
     },
     "execution_count": 112,
     "metadata": {},
     "output_type": "execute_result"
    }
   ],
   "source": [
    "# Max depth of binary tree -- second though\n",
    "# no global value needed, but return something continue to increase\n",
    "def max_depth(root):\n",
    "    if root is None:\n",
    "        return 0\n",
    "    return max(max_depth(root.left) + 1, max_depth(root.right) + 1)\n",
    "max_depth(bt)"
   ]
  },
  {
   "cell_type": "code",
   "execution_count": 20,
   "metadata": {},
   "outputs": [
    {
     "name": "stdout",
     "output_type": "stream",
     "text": [
      "a0\n",
      "b1\n",
      "c2\n",
      "d3\n"
     ]
    },
    {
     "data": {
      "text/plain": [
       "4"
      ]
     },
     "execution_count": 20,
     "metadata": {},
     "output_type": "execute_result"
    }
   ],
   "source": [
    "# Max depth of binary tree -- bfs for left view or right view, add level 1 per view\n",
    "from collections import deque\n",
    "def max_depth(root):\n",
    "    if not root:\n",
    "        return\n",
    "    queue = deque()\n",
    "    queue.append(root)\n",
    "    level = 0\n",
    "    while queue:\n",
    "        within_level = len(queue)\n",
    "        idx = 0\n",
    "        while idx < within_level:\n",
    "            popped = queue.popleft()\n",
    "\n",
    "            if popped.left:\n",
    "                queue.append(popped.left)\n",
    "            if popped.right:\n",
    "                queue.append(popped.right)\n",
    "            \n",
    "            if idx == within_level - 1:\n",
    "                print(popped.data)\n",
    "                level += 1\n",
    "            idx +=1\n",
    "    return level\n",
    "            \n",
    "max_depth(bt)"
   ]
  },
  {
   "cell_type": "code",
   "execution_count": 73,
   "metadata": {},
   "outputs": [
    {
     "data": {
      "text/plain": [
       "a0"
      ]
     },
     "execution_count": 73,
     "metadata": {},
     "output_type": "execute_result"
    }
   ],
   "source": [
    "def invert_tree(root):\n",
    "    if not root:\n",
    "        return\n",
    "    root.left, root.right = invert_tree(root.right), invert_tree(root.left)\n",
    "    return root\n",
    "\n",
    "invert_tree(bt)"
   ]
  },
  {
   "cell_type": "code",
   "execution_count": 7,
   "metadata": {},
   "outputs": [],
   "source": [
    "# Compare two trees\n",
    "def is_same_tree(root1, root2):\n",
    "    if not root1 and not root2:\n",
    "        return True\n",
    "    if root1 and root2:\n",
    "        if root1.data != root2.data:\n",
    "            return False\n",
    "        else:\n",
    "            return is_same_tree(root1.left, root2.left) and is_same_tree(root1.right, root2.right)\n",
    "    else:\n",
    "        return False"
   ]
  },
  {
   "cell_type": "code",
   "execution_count": 8,
   "metadata": {},
   "outputs": [
    {
     "data": {
      "text/plain": [
       "True"
      ]
     },
     "execution_count": 8,
     "metadata": {},
     "output_type": "execute_result"
    }
   ],
   "source": [
    "is_same_tree(bt, bt2)"
   ]
  },
  {
   "cell_type": "code",
   "execution_count": 28,
   "metadata": {},
   "outputs": [
    {
     "data": {
      "text/plain": [
       "8"
      ]
     },
     "execution_count": 28,
     "metadata": {},
     "output_type": "execute_result"
    }
   ],
   "source": [
    "# lowest common ansestor tree\n",
    "# use binary tree properties, n1 < n < n2, where n the lowes ansestor\n",
    "\n",
    "def lca(root, n1, n2):\n",
    "    n1, n2 = min(n1, n2), max(n1, n2)\n",
    "    if not root:\n",
    "        return None\n",
    "    if root.data > n1 and root.data < n2:\n",
    "        return root\n",
    "    if root.data == n1:\n",
    "        return n1\n",
    "    if root.data == n2:\n",
    "        return n2\n",
    "    if root.data > n2:\n",
    "        return lca(root.left, n1, n2)\n",
    "    if root.data < n1:\n",
    "        return lca(root.right, n1, n2)\n",
    "lca(nbt, 9, 8)"
   ]
  },
  {
   "cell_type": "code",
   "execution_count": 49,
   "metadata": {},
   "outputs": [
    {
     "data": {
      "text/plain": [
       "4"
      ]
     },
     "execution_count": 49,
     "metadata": {},
     "output_type": "execute_result"
    }
   ],
   "source": [
    "def depth(root):\n",
    "    if root is None:\n",
    "        return 0\n",
    "    left = depth(root.left)\n",
    "    right = depth(root.right)\n",
    "    return max(left, right) + 1\n",
    "depth(bt)"
   ]
  },
  {
   "cell_type": "code",
   "execution_count": 53,
   "metadata": {},
   "outputs": [],
   "source": [
    "def is_balanced(root):\n",
    "    if root is None:\n",
    "        return True\n",
    "    if abs(depth(root.left) - depth(root.right)) <= 1 and is_balanced(root.left) and is_balanced(root.right):\n",
    "        return True\n",
    "    return False"
   ]
  },
  {
   "cell_type": "code",
   "execution_count": 54,
   "metadata": {},
   "outputs": [
    {
     "data": {
      "text/plain": [
       "True"
      ]
     },
     "execution_count": 54,
     "metadata": {},
     "output_type": "execute_result"
    }
   ],
   "source": [
    "is_balanced(bt)"
   ]
  },
  {
   "cell_type": "code",
   "execution_count": 84,
   "metadata": {},
   "outputs": [
    {
     "data": {
      "text/plain": [
       "10"
      ]
     },
     "execution_count": 84,
     "metadata": {},
     "output_type": "execute_result"
    }
   ],
   "source": [
    "#        10\n",
    "#      5    20\n",
    "#    3  8 \n",
    "#      7 9\n",
    "# Numerical BT defined early\n",
    "nbt"
   ]
  },
  {
   "cell_type": "code",
   "execution_count": 94,
   "metadata": {},
   "outputs": [
    {
     "data": {
      "text/plain": [
       "True"
      ]
     },
     "execution_count": 94,
     "metadata": {},
     "output_type": "execute_result"
    }
   ],
   "source": [
    "# path sum in a binary tree\n",
    "# base case: a) root is none  b)root is leaf, the final number must be the data\n",
    "# Otherwise search kids and pass total-root.data\n",
    "def has_path_sum(root, total):\n",
    "    if root is None:\n",
    "        return False\n",
    "    if root.left is None and root.right is None:\n",
    "        return root.data == total\n",
    "    return has_path_sum(root.left, total - root.data) or has_path_sum(root.right, total - root.data)\n",
    "    \n",
    "has_path_sum(nbt, 30)\n",
    "# the last return can be expanded as\n",
    "# if root.left and recursion left, return True\n",
    "# if root.right and recursion right, return True\n",
    "# return False"
   ]
  },
  {
   "cell_type": "code",
   "execution_count": 90,
   "metadata": {},
   "outputs": [
    {
     "data": {
      "text/plain": [
       "True"
      ]
     },
     "execution_count": 90,
     "metadata": {},
     "output_type": "execute_result"
    }
   ],
   "source": [
    "# This one is more complex, not that good\n",
    "# A good example of recursive return both True/False, as well as actual numbers\n",
    "# Tricks\n",
    "# 0. base case: at the leaf, and path is also zero\n",
    "# 1, define s, and when node is none, return s==0\n",
    "# 2, make sure s will continue change in recursion. (subSum in this case)\n",
    "# 3. ans is the same as False, It says: if child tree not correct, it won't work anyway. It will be true unless all\n",
    "# child tree are true. (In each level, ans default is always False, then OR evaluate to child results)\n",
    "def hasPathSum(node, s): \n",
    "      \n",
    "    # Return true if we run out of tree and s = 0  \n",
    "    if node is None: \n",
    "        return (s == 0) \n",
    "  \n",
    "    else: \n",
    "        ans = False \n",
    "          \n",
    "        # Otherwise check both subtrees \n",
    "        subSum = s - node.data  \n",
    "          \n",
    "        # If we reach a leaf node and sum becomes 0, then  \n",
    "        # return True  \n",
    "        if(subSum == 0 and node.left == None and node.right == None):\n",
    "            return True \n",
    "  \n",
    "        if node.left is not None: \n",
    "            ans = ans or hasPathSum(node.left, subSum) \n",
    "        if node.right is not None:\n",
    "            ans = ans or hasPathSum(node.right, subSum) \n",
    "        return ans  \n",
    "  \n",
    "hasPathSum(nbt, 30)"
   ]
  },
  {
   "cell_type": "code",
   "execution_count": 225,
   "metadata": {},
   "outputs": [
    {
     "data": {
      "text/plain": [
       "[[[], [[10, 5, 8, 7], []]], [10, 20]]"
      ]
     },
     "execution_count": 225,
     "metadata": {},
     "output_type": "execute_result"
    }
   ],
   "source": [
    "def find_path(root, total, path=[]):\n",
    "    if root is None:\n",
    "        return None\n",
    "    path = path + [root.data]\n",
    "    if root.left is None and root.right is None and total == root.data:\n",
    "        return path\n",
    "    paths = []\n",
    "    if root.left:\n",
    "        new_path = find_path(root.left, total - root.data, path)\n",
    "        paths.append(new_path)\n",
    "    if root.right:\n",
    "        new_path = find_path(root.right, total - root.data, path)\n",
    "        paths.append(new_path)\n",
    "    return paths\n",
    "find_path(nbt, 30)"
   ]
  },
  {
   "cell_type": "code",
   "execution_count": 212,
   "metadata": {},
   "outputs": [
    {
     "data": {
      "text/plain": [
       "[[10, 5, 8, 7], [10, 20]]"
      ]
     },
     "execution_count": 212,
     "metadata": {},
     "output_type": "execute_result"
    }
   ],
   "source": [
    "# What if we want print out the path?\n",
    "# parameters: path, paths (could be outside)\n",
    "# base case: when find path, append path to paths\n",
    "# recursive case: find left and right kids, modify sum and path\n",
    "# initial: path = [10]\n",
    "# Note: path must be build in recurive call, should not inside the function. Otherwise it will be deleted when\n",
    "# function returns\n",
    "def find_path(root, total, path, paths=[]):\n",
    "    if not path:\n",
    "        path = [root.data]\n",
    "    if root is None:\n",
    "        return None\n",
    "\n",
    "    if root.left is None and root.right is None and total == root.data:\n",
    "\n",
    "        paths.append(path)\n",
    "        #print(paths)\n",
    "    if root.left:\n",
    "        find_path(root.left, total - root.data, path + [root.left.data], paths)\n",
    "    if root.right:\n",
    "        find_path(root.right, total - root.data, path + [root.right.data], paths)\n",
    "\n",
    "    \n",
    "path = []\n",
    "paths = []\n",
    "find_path(nbt, 30, path, paths)\n",
    "paths"
   ]
  },
  {
   "cell_type": "code",
   "execution_count": 151,
   "metadata": {},
   "outputs": [
    {
     "data": {
      "text/plain": [
       "[[10, 5, 8, 7], [10, 20]]"
      ]
     },
     "execution_count": 151,
     "metadata": {},
     "output_type": "execute_result"
    }
   ],
   "source": [
    "# Path find other people use nest function dfs\n",
    "\n",
    "def find_path(root, total):\n",
    "    def dfs(root, remain, path):\n",
    "        if root.left is None and root.right is None:\n",
    "            if remain == root.data:\n",
    "                paths.append(path)\n",
    "        if root.left:\n",
    "            dfs(root.left, remain - root.data, path + [root.left.data])\n",
    "\n",
    "        if root.right:\n",
    "            dfs(root.right, remain - root.data, path + [root.right.data])\n",
    "    paths = []\n",
    "    if root is None:\n",
    "        return []\n",
    "    dfs(root, total, [root.data])\n",
    "    return paths\n",
    "find_path(nbt, 30)"
   ]
  },
  {
   "cell_type": "code",
   "execution_count": null,
   "metadata": {},
   "outputs": [],
   "source": []
  },
  {
   "cell_type": "code",
   "execution_count": 208,
   "metadata": {},
   "outputs": [
    {
     "data": {
      "text/plain": [
       "3"
      ]
     },
     "execution_count": 208,
     "metadata": {},
     "output_type": "execute_result"
    }
   ],
   "source": [
    "#min depth tree\n",
    "# Compare to the max depth tree, the problem is\n",
    "# min depth is not always the min of both trees. If left tree is empty, then it is the min of right tree\n",
    "def min_depth(root):\n",
    "    if root is None:\n",
    "        return 0\n",
    "    #if root.left is None and root.right is None:\n",
    "        #return 1\n",
    "    if root.left is None:\n",
    "        return min_depth(root.right) + 1\n",
    "    if root.right is None:\n",
    "        return min_depth(root.left) + 1\n",
    "    return min(min_depth(root.left) + 1, min_depth(root.right) + 1)\n",
    "\n",
    "def max_depth(root):\n",
    "    if root is None:\n",
    "        return 0\n",
    "    return max(max_depth(root.left) + 1, max_depth(root.right) + 1)\n",
    "max_depth(bt)\n",
    "\n",
    "\n",
    "min_depth(bt)"
   ]
  },
  {
   "cell_type": "code",
   "execution_count": null,
   "metadata": {},
   "outputs": [],
   "source": []
  }
 ],
 "metadata": {
  "kernelspec": {
   "display_name": "Python 3",
   "language": "python",
   "name": "python3"
  },
  "language_info": {
   "codemirror_mode": {
    "name": "ipython",
    "version": 3
   },
   "file_extension": ".py",
   "mimetype": "text/x-python",
   "name": "python",
   "nbconvert_exporter": "python",
   "pygments_lexer": "ipython3",
   "version": "3.5.2"
  }
 },
 "nbformat": 4,
 "nbformat_minor": 2
}
