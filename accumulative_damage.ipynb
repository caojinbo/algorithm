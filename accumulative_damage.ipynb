{
 "cells": [
  {
   "cell_type": "code",
   "execution_count": 1,
   "metadata": {},
   "outputs": [],
   "source": [
    "import numpy as np\n",
    "import matplotlib.pyplot as plt\n",
    "from scipy import interpolate"
   ]
  },
  {
   "cell_type": "code",
   "execution_count": 2,
   "metadata": {},
   "outputs": [],
   "source": [
    "def cal_capacity(t_life, stress):\n",
    "    \"\"\"\n",
    "    Function mimic capacity given time and stress\n",
    "    return it with real function\n",
    "    \"\"\"\n",
    "\n",
    "    return 1 - stress * np.sqrt(t_life)\n",
    "\n"
   ]
  },
  {
   "cell_type": "code",
   "execution_count": 50,
   "metadata": {},
   "outputs": [],
   "source": [
    "def capacity_to_time(capacity, stress, max_days=10000):\n",
    "    \"\"\"\n",
    "    inverse cal_capacity\n",
    "    For given capacity, interpolate the time\n",
    "    \n",
    "    \"\"\"\n",
    "    interp_time = np.linspace(0, max_days, max_days + 1)\n",
    "    interp_capacity = cal_capacity(interp_time, stress)\n",
    "    inverse_func = interpolate.interp1d(interp_capacity, interp_time, fill_value='extrapolate')\n",
    "    return inverse_func(capacity)"
   ]
  },
  {
   "cell_type": "code",
   "execution_count": 55,
   "metadata": {},
   "outputs": [],
   "source": [
    "def single_accum_capacity(orig_capacity, t_life, stress):\n",
    "    \"\"\"\n",
    "    Predict capacity with original q, t_life and stress\n",
    "    \"\"\"\n",
    "    eff_t = capacity_to_time(orig_capacity, stress)\n",
    "\n",
    "    return cal_capacity(eff_t + t_life, stress)\n",
    "    "
   ]
  },
  {
   "cell_type": "code",
   "execution_count": 56,
   "metadata": {},
   "outputs": [],
   "source": [
    "def aggregated_capacity(stresses, initial_capacity=1):\n",
    "    \"\"\"\n",
    "    Stress_conditions contains 2D np array\n",
    "    time + stress contion\n",
    "    \"\"\"\n",
    "    cap_list = [1]\n",
    "    time_list = [0]\n",
    "    accu_time = 0\n",
    "    tmp_cap = initial_capacity\n",
    "    for stress in stresses:\n",
    "        t, s = stress[0], stress[1]\n",
    "        accu_time += t\n",
    "        tmp_cap = single_accum_capacity(tmp_cap, t, s)\n",
    "        cap_list.append(tmp_cap)\n",
    "        time_list.append(accu_time)\n",
    "\n",
    "    return time_list, cap_list\n",
    "        "
   ]
  },
  {
   "cell_type": "code",
   "execution_count": 59,
   "metadata": {},
   "outputs": [],
   "source": [
    "def build_stress_conditions():\n",
    "    \"\"\"\n",
    "    test examples\n",
    "    \"\"\"\n",
    "    stresses = []\n",
    "    for _ in range(20):\n",
    "        stresses.append([10, 0.005])\n",
    "    for _ in range(20):\n",
    "        stresses.append([10, 0.009])\n",
    "    for _ in range(20):\n",
    "        stresses.append([10, 0.003])\n",
    "    return stresses\n",
    "\n",
    "acc_stress = build_stress_conditions()"
   ]
  },
  {
   "cell_type": "code",
   "execution_count": 60,
   "metadata": {},
   "outputs": [
    {
     "data": {
      "image/png": "[encoded data removed]",
      "text/plain": [
       "<matplotlib.figure.Figure at 0x7fbe8746e470>"
      ]
     },
     "metadata": {},
     "output_type": "display_data"
    }
   ],
   "source": [
    "interp_time = np.linspace(0, 1000, 101)\n",
    "plt.figure()\n",
    "for stress in [0.005, 0.006, 0.007]:\n",
    "    interp_capacity = cal_capacity(interp_time, stress)\n",
    "    plt.plot(interp_time, interp_capacity, '--', label='stress={}'.format(stress))\n",
    "\n",
    "plt.plot(*aggregated_capacity(acc_stress), '*-', markersize=5, label='Accumulative')\n",
    "plt.legend()\n",
    "plt.show()"
   ]
  },
  {
   "cell_type": "code",
   "execution_count": null,
   "metadata": {},
   "outputs": [],
   "source": []
  },
  {
   "cell_type": "code",
   "execution_count": null,
   "metadata": {},
   "outputs": [],
   "source": []
  },
  {
   "cell_type": "code",
   "execution_count": null,
   "metadata": {},
   "outputs": [],
   "source": []
  },
  {
   "cell_type": "code",
   "execution_count": null,
   "metadata": {},
   "outputs": [],
   "source": []
  },
  {
   "cell_type": "code",
   "execution_count": null,
   "metadata": {},
   "outputs": [],
   "source": []
  },
  {
   "cell_type": "code",
   "execution_count": null,
   "metadata": {},
   "outputs": [],
   "source": []
  },
  {
   "cell_type": "code",
   "execution_count": null,
   "metadata": {},
   "outputs": [],
   "source": []
  },
  {
   "cell_type": "code",
   "execution_count": null,
   "metadata": {},
   "outputs": [],
   "source": []
  },
  {
   "cell_type": "code",
   "execution_count": 27,
   "metadata": {},
   "outputs": [],
   "source": [
    "def fun(x):\n",
    "    if x >=0:\n",
    "        return x**2\n",
    "    else:\n",
    "        return x"
   ]
  },
  {
   "cell_type": "code",
   "execution_count": 34,
   "metadata": {},
   "outputs": [
    {
     "data": {
      "text/plain": [
       "3.4638591800356506"
      ]
     },
     "execution_count": 34,
     "metadata": {},
     "output_type": "execute_result"
    }
   ],
   "source": [
    "x_all = np.linspace(-5, 5, 100)\n",
    "y = np.array([fun(x) for x in x_all])\n",
    "xval = 12\n",
    "np.interp(xval, y, x_all)"
   ]
  },
  {
   "cell_type": "code",
   "execution_count": 35,
   "metadata": {},
   "outputs": [
    {
     "data": {
      "text/plain": [
       "11.9716"
      ]
     },
     "execution_count": 35,
     "metadata": {},
     "output_type": "execute_result"
    }
   ],
   "source": [
    "3.46 ** 2"
   ]
  },
  {
   "cell_type": "code",
   "execution_count": 51,
   "metadata": {},
   "outputs": [],
   "source": [
    "\n"
   ]
  },
  {
   "cell_type": "code",
   "execution_count": 52,
   "metadata": {},
   "outputs": [
    {
     "data": {
      "text/plain": [
       "array(1611.11111111)"
      ]
     },
     "execution_count": 52,
     "metadata": {},
     "output_type": "execute_result"
    }
   ],
   "source": [
    "f(40)"
   ]
  },
  {
   "cell_type": "code",
   "execution_count": 57,
   "metadata": {},
   "outputs": [],
   "source": [
    "x = np.linspace(0, 100, 101)"
   ]
  },
  {
   "cell_type": "code",
   "execution_count": 62,
   "metadata": {},
   "outputs": [],
   "source": []
  },
  {
   "cell_type": "code",
   "execution_count": 64,
   "metadata": {},
   "outputs": [
    {
     "data": {
      "text/plain": [
       "[<matplotlib.lines.Line2D at 0x7fdc7bbd15f8>]"
      ]
     },
     "execution_count": 64,
     "metadata": {},
     "output_type": "execute_result"
    },
    {
     "data": {
      "image/png": "[encoded data removed]",
      "text/plain": [
       "<matplotlib.figure.Figure at 0x7fdc7bb57eb8>"
      ]
     },
     "metadata": {},
     "output_type": "display_data"
    }
   ],
   "source": [
    "plt.figure()\n",
    "plt.plot(x, cap(x))"
   ]
  },
  {
   "cell_type": "code",
   "execution_count": null,
   "metadata": {},
   "outputs": [],
   "source": []
  }
 ],
 "metadata": {
  "kernelspec": {
   "display_name": "Python 3",
   "language": "python",
   "name": "python3"
  },
  "language_info": {
   "codemirror_mode": {
    "name": "ipython",
    "version": 3
   },
   "file_extension": ".py",
   "mimetype": "text/x-python",
   "name": "python",
   "nbconvert_exporter": "python",
   "pygments_lexer": "ipython3",
   "version": "3.5.2"
  }
 },
 "nbformat": 4,
 "nbformat_minor": 2
}
